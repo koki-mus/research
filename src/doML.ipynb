{
 "cells": [
  {
   "attachments": {},
   "cell_type": "markdown",
   "metadata": {},
   "source": [
    "## 初期設定"
   ]
  },
  {
   "cell_type": "code",
   "execution_count": 5,
   "metadata": {},
   "outputs": [],
   "source": [
    "from mymodule import MLs\n",
    "from mymodule import myfunc as mf\n",
    "import numpy as np\n",
    "import pandas as pd\n",
    "import glob\n",
    "import os\n",
    "from dotenv import load_dotenv\n",
    "load_dotenv()\n",
    "# root_dir = os.environ[\"root_dir\"]\n",
    "root_dir = \"../\""
   ]
  },
  {
   "attachments": {},
   "cell_type": "markdown",
   "metadata": {},
   "source": [
    "データの参照先の設定、インスタンス作成"
   ]
  },
  {
   "cell_type": "code",
   "execution_count": 2,
   "metadata": {},
   "outputs": [
    {
     "name": "stdout",
     "output_type": "stream",
     "text": [
      "PCA 非実施\n"
     ]
    }
   ],
   "source": [
    "TARGET = \"magfieldx\"\n",
    "#それぞれ1番最後の'/'は忘れずつけること\n",
    "ALTIMAGES0 = root_dir + \"imgout/0110_not/\"#リコネクションなし分割済データフォルダ\n",
    "ALTIMAGES1 = root_dir + \"imgout/0110_1X/\"#リコネクションあり分割済データフォルダ\n",
    "LABEL_SOURCE0 = root_dir + \"txt/labels0/\"#リコネクションありのラベリングcsvのあるフォルダ\n",
    "LABEL_SOURCE1 = root_dir + \"txt/labels1X/\"#リコネクションなしのラベリングcsvのあるフォルダ\n",
    "IMGSHAPE = [10,100]#出来れば画像サイズはすべて同じで合ってほしい。違うサイズが混じる場合は最も多いサイズを指定すること\n",
    "DO_PCA = False #データ圧縮。IMGSHAPEと、データサイズが途方もなく多ければTrueにする。\n",
    "randomstate = None #学習時のパラメータ。初期値はNone。結果を固定したければ1とかに設定する。\n",
    "\n",
    "ML = MLs.ML(TARGET, ALTIMAGES0, ALTIMAGES1, LABEL_SOURCE0, LABEL_SOURCE1, IMGSHAPE, DO_PCA,randomstate=randomstate)"
   ]
  },
  {
   "attachments": {},
   "cell_type": "markdown",
   "metadata": {},
   "source": [
    "### 例"
   ]
  },
  {
   "cell_type": "code",
   "execution_count": 4,
   "metadata": {},
   "outputs": [
    {
     "name": "stdout",
     "output_type": "stream",
     "text": [
      "Train : 0.9721957419764855\n",
      "Test : 0.9560561299852289\n",
      "[0. 0. 0. ... 1. 1. 1.]\n"
     ]
    },
    {
     "name": "stderr",
     "output_type": "stream",
     "text": [
      "c:\\Users\\TsugiKawa\\AppData\\Local\\Programs\\Python\\Python310\\lib\\site-packages\\sklearn\\svm\\_base.py:1225: ConvergenceWarning: Liblinear failed to converge, increase the number of iterations.\n",
      "  warnings.warn(\n"
     ]
    }
   ],
   "source": [
    "#学習\n",
    "#モジュールに書いてるコードで実行\n",
    "# model = ML.linearSVC()   \n",
    "# ML.kneighbors()\n",
    "# ML.rbfSVC()\n",
    "# ML.XGBoost()\n",
    "\n",
    "#or\n",
    "#自由に記述し、MLクラスを利用して実行\n",
    "from sklearn.svm import LinearSVC\n",
    "def mylinearSVC(self):    \n",
    "        model = LinearSVC(C=0.3, random_state=self.randomstate) # インスタンスを生成\n",
    "        model.fit(self.X_train, self.y_train) # モデルの学習\n",
    "        # 学習データに対する精度\n",
    "        print(\"Train :\", model.score(self.X_train, self.y_train)) \n",
    "        # テストデータに対する精度\n",
    "        print(\"Test :\", model.score(self.X_test, self.y_test)) \n",
    "        print(model.predict(self.X_test))\n",
    "        pred = model.predict(self.X_test)\n",
    "        svmres = pd.DataFrame(np.array([self.path_test, self.y_test, pred]).T, columns=[\"path\", \"y\", \"predict\"])\n",
    "        # print(classification_report(self.y_test, pred))\n",
    "        return model\n",
    "svm = mylinearSVC(ML)"
   ]
  },
  {
   "cell_type": "code",
   "execution_count": 7,
   "metadata": {},
   "outputs": [
    {
     "data": {
      "text/plain": [
       "['../imgout/test1227/magfieldx/magfieldx_49.10.3_47.773.npy',\n",
       " '../imgout/test1227/magfieldx/magfieldx_49.10.6_47.773.npy',\n",
       " '../imgout/test1227/magfieldx/magfieldx_49.12.13_147.452.npy',\n",
       " '../imgout/test1227/magfieldx/magfieldx_49.13.13_42.607.npy',\n",
       " '../imgout/test1227/magfieldx/magfieldx_49.7.13_127.625.npy',\n",
       " '../imgout/test1227/magfieldx/magfieldx_49.10.4_47.773.npy',\n",
       " '../imgout/test1227/magfieldx/magfieldx_49.13.13_102.420.npy',\n",
       " '../imgout/test1227/magfieldx/magfieldx_49.10.3_82.620.npy']"
      ]
     },
     "execution_count": 7,
     "metadata": {},
     "output_type": "execute_result"
    }
   ],
   "source": [
    "#参照可能なもの\n",
    "ML.TARGET = TARGET#magfieldx, pressure,,,\n",
    "ML.PATH1\n",
    "ML.PATH0\n",
    "ML.ALLTARINDATA0#データ参照先フォルダ\n",
    "ML.ALLTARINDATA1\n",
    "ML.PATH0TEST#テストデータ一覧\n",
    "ML.PATH1TEST\n",
    "ML.PATH0TRAIN#学習データ\n",
    "ML.PATH1TRAIN\n",
    "ML.X_test\n",
    "ML.y_test\n",
    "ML.path_test\n",
    "ML.X_train\n",
    "ML.y_train\n",
    "ML.path_train\n",
    "#後から変更可能なもの\n",
    "ML.randomstate = 1"
   ]
  },
  {
   "cell_type": "code",
   "execution_count": 7,
   "metadata": {},
   "outputs": [
    {
     "name": "stdout",
     "output_type": "stream",
     "text": [
      "LinearSVC(C=0.3)\n"
     ]
    }
   ],
   "source": [
    "#学習モデルをファイルに保存、読み込み例\n",
    "import pickle\n",
    "path = \"pickletest\"\n",
    "\n",
    "file = open(path, \"wb\") \n",
    "pickle.dump(svm, file)\n",
    "file.close\n",
    "\n",
    "with open(path, 'rb') as f:\n",
    "    dict = pickle.load(f)\n",
    "print(svm)"
   ]
  },
  {
   "attachments": {},
   "cell_type": "markdown",
   "metadata": {},
   "source": [
    "## 以下自由に"
   ]
  },
  {
   "cell_type": "code",
   "execution_count": 6,
   "metadata": {},
   "outputs": [
    {
     "name": "stdout",
     "output_type": "stream",
     "text": [
      "Train : 0.9744200826183667\n",
      "Test : 0.9590103397341211\n",
      "[0. 0. 0. ... 1. 1. 1.]\n",
      "              precision    recall  f1-score   support\n",
      "\n",
      "         0.0       0.93      0.91      0.92       722\n",
      "         1.0       0.97      0.98      0.97      1986\n",
      "\n",
      "    accuracy                           0.96      2708\n",
      "   macro avg       0.95      0.94      0.95      2708\n",
      "weighted avg       0.96      0.96      0.96      2708\n",
      "\n"
     ]
    },
    {
     "name": "stderr",
     "output_type": "stream",
     "text": [
      "c:\\Users\\TsugiKawa\\AppData\\Local\\Programs\\Python\\Python310\\lib\\site-packages\\sklearn\\svm\\_base.py:1225: ConvergenceWarning: Liblinear failed to converge, increase the number of iterations.\n",
      "  warnings.warn(\n"
     ]
    }
   ],
   "source": [
    "model = ML.linearSVC()  "
   ]
  },
  {
   "cell_type": "code",
   "execution_count": 22,
   "metadata": {},
   "outputs": [
    {
     "name": "stdout",
     "output_type": "stream",
     "text": [
      "PCA 非実施\n"
     ]
    }
   ],
   "source": [
    "import pickle\n",
    "picout = root_dir + \"MLres/\"\n",
    "\n",
    "for target in [\"density\", \"enstrophy\", \"pressure\",\"magfieldx\", \"magfieldy\", \"velocityx\",\"velocityy\"]:\n",
    "    for tag, altimages1, labelsources1 in [(\"X\",\"imgout/0110_1X/\",\"txt/labels1X/\"), (\"O\",\"imgout/0110_1O/\", \"txt/labels1O/\")]:\n",
    "        TARGET = target\n",
    "        #それぞれ1番最後の'/'は忘れずつけること\n",
    "        ALTIMAGES0 = root_dir + \"imgout/0110_not/\"#リコネクションなし分割済データフォルダ\n",
    "        ALTIMAGES1 = root_dir + altimages1#リコネクションあり分割済データフォルダ\n",
    "        LABEL_SOURCE0 = root_dir + \"txt/labels0/\"#リコネクションありのラベリングcsvのあるフォルダ\n",
    "        LABEL_SOURCE1 = root_dir + labelsources1#リコネクションなしのラベリングcsvのあるフォルダ\n",
    "        IMGSHAPE = [10,100]#出来れば画像サイズはすべて同じで合ってほしい。違うサイズが混じる場合は最も多いサイズを指定すること\n",
    "        DO_PCA = False #データ圧縮。IMGSHAPEと、データサイズが途方もなく多ければTrueにする。\n",
    "        randomstate = None #学習時のパラメータ。初期値はNone。結果を固定したければ1とかに設定する。\n",
    "\n",
    "        ML = MLs.ML(TARGET, ALTIMAGES0, ALTIMAGES1, LABEL_SOURCE0, LABEL_SOURCE1, IMGSHAPE, DO_PCA,randomstate=randomstate)\n",
    "        summary = open(picout+\"summary.txt\", \"a\")\n",
    "        def savemodel(model, methodname, summary=summary):\n",
    "            picout = root_dir + \"MLres/\"\n",
    "            path = picout + \"model_\" + target + \"_\" + tag + \"_\" + methodname\n",
    "            # file = open(path, \"wb\") \n",
    "            # pickle.dump(model, file)\n",
    "            # file.close()\n",
    "            print(\"model_\" + target + \"_\" + tag + \"_\" + methodname+\"\\n\")\n",
    "            print(\"------------------\\n\\n\\n\\n\")\n",
    "        model = ML.linearSVC()   \n",
    "        savemodel(model, \"linearSVC\")\n",
    "        model = ML.kneighbors()\n",
    "        savemodel(model, \"kneighbors\")\n",
    "        model = ML.rbfSVC()\n",
    "        savemodel(model, \"rbfSVC\")\n",
    "        model = ML.XGBoost()\n",
    "        savemodel(model, \"XGBoost\")\n",
    "        summary.close()"
   ]
  },
  {
   "cell_type": "code",
   "execution_count": 9,
   "metadata": {},
   "outputs": [],
   "source": [
    "def loadmodel(modelsdir, target, tag, methodname):\n",
    "    path = picout + \"model_\" + target + \"_\" + tag + \"_\" + methodname\n",
    "    with open(path, 'rb') as f:\n",
    "        return pickle.load(f)\n"
   ]
  },
  {
   "cell_type": "code",
   "execution_count": null,
   "metadata": {},
   "outputs": [],
   "source": [
    "modelspath = glob.glob(picout)\n",
    "    "
   ]
  },
  {
   "cell_type": "code",
   "execution_count": 14,
   "metadata": {},
   "outputs": [
    {
     "name": "stdout",
     "output_type": "stream",
     "text": [
      "Train : 0.9992832825658484\n",
      "Test : 0.9983326385994165\n",
      "XGBClassifier(base_score=0.5, booster='gbtree', callbacks=None,\n",
      "              colsample_bylevel=1, colsample_bynode=1, colsample_bytree=1,\n",
      "              early_stopping_rounds=None, enable_categorical=False,\n",
      "              eval_metric=None, gamma=3, gpu_id=-1, grow_policy='depthwise',\n",
      "              importance_type=None, interaction_constraints='',\n",
      "              learning_rate=0.300000012, max_bin=256, max_cat_to_onehot=4,\n",
      "              max_delta_step=0, max_depth=4, max_leaves=0, min_child_weight=1,\n",
      "              missing=nan, monotone_constraints='()', n_estimators=80, n_jobs=0,\n",
      "              num_parallel_tree=1, predictor='auto', random_state=0,\n",
      "              reg_alpha=0, reg_lambda=1, ...)\n"
     ]
    },
    {
     "data": {
      "text/plain": [
       "2"
      ]
     },
     "execution_count": 14,
     "metadata": {},
     "output_type": "execute_result"
    }
   ],
   "source": [
    "# model = ML.linearSVC()   \n",
    "# ML.kneighbors()\n",
    "# ML.rbfSVC()\n",
    "print(ML.XGBoost())"
   ]
  },
  {
   "cell_type": "code",
   "execution_count": null,
   "metadata": {},
   "outputs": [],
   "source": []
  }
 ],
 "metadata": {
  "kernelspec": {
   "display_name": "Python 3",
   "language": "python",
   "name": "python3"
  },
  "language_info": {
   "codemirror_mode": {
    "name": "ipython",
    "version": 3
   },
   "file_extension": ".py",
   "mimetype": "text/x-python",
   "name": "python",
   "nbconvert_exporter": "python",
   "pygments_lexer": "ipython3",
   "version": "3.10.7"
  },
  "orig_nbformat": 4,
  "vscode": {
   "interpreter": {
    "hash": "6421c100b89c4feb9fb005f61fb54da3e1e62cfff126d543998553caed03568c"
   }
  }
 },
 "nbformat": 4,
 "nbformat_minor": 2
}
