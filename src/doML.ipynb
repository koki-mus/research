{
 "cells": [
  {
   "cell_type": "code",
   "execution_count": 1,
   "metadata": {},
   "outputs": [],
   "source": [
    "from mymodule import MLs\n",
    "from mymodule import myfunc as mf\n",
    "import numpy as np\n",
    "import pandas as pd\n",
    "import glob\n",
    "import os\n",
    "from dotenv import load_dotenv\n",
    "load_dotenv()\n",
    "# root_dir = os.environ[\"root_dir\"]\n",
    "root_dir = \"../\""
   ]
  },
  {
   "cell_type": "code",
   "execution_count": 2,
   "metadata": {},
   "outputs": [
    {
     "ename": "FileNotFoundError",
     "evalue": "[Errno 2] No such file or directory: '../imgout/0106ML0/pressure/pressure_77.10.7_40.610.npy'",
     "output_type": "error",
     "traceback": [
      "\u001b[1;31m---------------------------------------------------------------------------\u001b[0m",
      "\u001b[1;31mFileNotFoundError\u001b[0m                         Traceback (most recent call last)",
      "\u001b[1;32m~\\AppData\\Local\\Temp\\ipykernel_13436\\1938100395.py\u001b[0m in \u001b[0;36m<module>\u001b[1;34m\u001b[0m\n\u001b[0;32m      9\u001b[0m \u001b[0mrandomstate\u001b[0m \u001b[1;33m=\u001b[0m \u001b[1;32mNone\u001b[0m \u001b[1;31m#学習時のパラメータ。初期値はNone。結果を固定したければ1とかに設定する。\u001b[0m\u001b[1;33m\u001b[0m\u001b[1;33m\u001b[0m\u001b[0m\n\u001b[0;32m     10\u001b[0m \u001b[1;33m\u001b[0m\u001b[0m\n\u001b[1;32m---> 11\u001b[1;33m \u001b[0mML\u001b[0m \u001b[1;33m=\u001b[0m \u001b[0mMLs\u001b[0m\u001b[1;33m.\u001b[0m\u001b[0mML\u001b[0m\u001b[1;33m(\u001b[0m\u001b[0mTARGET\u001b[0m\u001b[1;33m,\u001b[0m \u001b[0mALTIMAGES0\u001b[0m\u001b[1;33m,\u001b[0m \u001b[0mALTIMAGES1\u001b[0m\u001b[1;33m,\u001b[0m \u001b[0mLABEL_SOURCE0\u001b[0m\u001b[1;33m,\u001b[0m \u001b[0mLABEL_SOURCE1\u001b[0m\u001b[1;33m,\u001b[0m \u001b[0mIMGSHAPE\u001b[0m\u001b[1;33m,\u001b[0m \u001b[0mDO_PCA\u001b[0m\u001b[1;33m,\u001b[0m\u001b[0mrandomstate\u001b[0m\u001b[1;33m=\u001b[0m\u001b[0mrandomstate\u001b[0m\u001b[1;33m)\u001b[0m\u001b[1;33m\u001b[0m\u001b[1;33m\u001b[0m\u001b[0m\n\u001b[0m",
      "\u001b[1;32mc:\\Users\\lkxl1\\OneDrive\\デスクトップ\\research\\src\\mymodule\\MLs.py\u001b[0m in \u001b[0;36m__init__\u001b[1;34m(self, TARGET, ALTIMAGES0, ALTIMAGES1, LABEL_SOURCE0, LABEL_SOURCE1, IMGSHAPE, DO_PCA, dilute, randomstate)\u001b[0m\n\u001b[0;32m     67\u001b[0m         \u001b[1;32mif\u001b[0m \u001b[0mdilute\u001b[0m\u001b[1;33m:\u001b[0m\u001b[1;33m\u001b[0m\u001b[1;33m\u001b[0m\u001b[0m\n\u001b[0;32m     68\u001b[0m             \u001b[0mself\u001b[0m\u001b[1;33m.\u001b[0m\u001b[0mdilute\u001b[0m\u001b[1;33m(\u001b[0m\u001b[1;33m)\u001b[0m\u001b[1;33m\u001b[0m\u001b[1;33m\u001b[0m\u001b[0m\n\u001b[1;32m---> 69\u001b[1;33m         \u001b[0mself\u001b[0m\u001b[1;33m.\u001b[0m\u001b[0mload_data\u001b[0m\u001b[1;33m(\u001b[0m\u001b[1;33m)\u001b[0m\u001b[1;33m\u001b[0m\u001b[1;33m\u001b[0m\u001b[0m\n\u001b[0m\u001b[0;32m     70\u001b[0m         \u001b[0mself\u001b[0m\u001b[1;33m.\u001b[0m\u001b[0mexePCA\u001b[0m\u001b[1;33m(\u001b[0m\u001b[1;33m)\u001b[0m\u001b[1;33m\u001b[0m\u001b[1;33m\u001b[0m\u001b[0m\n\u001b[0;32m     71\u001b[0m     \u001b[1;32mdef\u001b[0m \u001b[0msize_dir\u001b[0m\u001b[1;33m(\u001b[0m\u001b[0mself\u001b[0m\u001b[1;33m,\u001b[0m \u001b[0mpath\u001b[0m\u001b[1;33m)\u001b[0m\u001b[1;33m:\u001b[0m\u001b[1;33m\u001b[0m\u001b[1;33m\u001b[0m\u001b[0m\n",
      "\u001b[1;32mc:\\Users\\lkxl1\\OneDrive\\デスクトップ\\research\\src\\mymodule\\MLs.py\u001b[0m in \u001b[0;36mload_data\u001b[1;34m(self)\u001b[0m\n\u001b[0;32m    149\u001b[0m \u001b[1;33m\u001b[0m\u001b[0m\n\u001b[0;32m    150\u001b[0m         \u001b[1;32mfor\u001b[0m \u001b[0mitem\u001b[0m \u001b[1;32min\u001b[0m \u001b[0mpath_list\u001b[0m\u001b[1;33m:\u001b[0m\u001b[1;33m\u001b[0m\u001b[1;33m\u001b[0m\u001b[0m\n\u001b[1;32m--> 151\u001b[1;33m             \u001b[0mself\u001b[0m\u001b[1;33m.\u001b[0m\u001b[0mX_train\u001b[0m\u001b[1;33m[\u001b[0m\u001b[0mi_count\u001b[0m\u001b[1;33m,\u001b[0m\u001b[1;33m:\u001b[0m\u001b[1;33m]\u001b[0m \u001b[1;33m=\u001b[0m \u001b[0mload_regularize\u001b[0m\u001b[1;33m(\u001b[0m\u001b[0mitem\u001b[0m\u001b[1;33m)\u001b[0m\u001b[1;33m\u001b[0m\u001b[1;33m\u001b[0m\u001b[0m\n\u001b[0m\u001b[0;32m    152\u001b[0m             \u001b[0mself\u001b[0m\u001b[1;33m.\u001b[0m\u001b[0my_train\u001b[0m\u001b[1;33m[\u001b[0m\u001b[0mi_count\u001b[0m\u001b[1;33m]\u001b[0m \u001b[1;33m=\u001b[0m \u001b[1;36m0\u001b[0m \u001b[1;31m# リコネクションがないことを表すラベル\u001b[0m\u001b[1;33m\u001b[0m\u001b[1;33m\u001b[0m\u001b[0m\n\u001b[0;32m    153\u001b[0m             \u001b[0mself\u001b[0m\u001b[1;33m.\u001b[0m\u001b[0mpath_train\u001b[0m\u001b[1;33m[\u001b[0m\u001b[0mi_count\u001b[0m\u001b[1;33m]\u001b[0m \u001b[1;33m=\u001b[0m \u001b[0mitem\u001b[0m\u001b[1;33m\u001b[0m\u001b[1;33m\u001b[0m\u001b[0m\n",
      "\u001b[1;32mc:\\Users\\lkxl1\\OneDrive\\デスクトップ\\research\\src\\mymodule\\MLs.py\u001b[0m in \u001b[0;36mload_regularize\u001b[1;34m(item)\u001b[0m\n\u001b[0;32m    133\u001b[0m             \u001b[1;31m# print(item)\u001b[0m\u001b[1;33m\u001b[0m\u001b[1;33m\u001b[0m\u001b[1;33m\u001b[0m\u001b[0m\n\u001b[0;32m    134\u001b[0m             \u001b[1;32mif\u001b[0m \u001b[0mtype\u001b[0m \u001b[1;33m==\u001b[0m \u001b[1;34m\".npy\"\u001b[0m\u001b[1;33m:\u001b[0m\u001b[1;33m\u001b[0m\u001b[1;33m\u001b[0m\u001b[0m\n\u001b[1;32m--> 135\u001b[1;33m                 \u001b[0mim\u001b[0m \u001b[1;33m=\u001b[0m \u001b[0mnp\u001b[0m\u001b[1;33m.\u001b[0m\u001b[0mload\u001b[0m\u001b[1;33m(\u001b[0m\u001b[0mitem\u001b[0m\u001b[1;33m)\u001b[0m\u001b[1;33m\u001b[0m\u001b[1;33m\u001b[0m\u001b[0m\n\u001b[0m\u001b[0;32m    136\u001b[0m             \u001b[1;32melif\u001b[0m \u001b[0mtype\u001b[0m \u001b[1;33m==\u001b[0m \u001b[1;34m\".npz\"\u001b[0m\u001b[1;33m:\u001b[0m\u001b[1;33m\u001b[0m\u001b[1;33m\u001b[0m\u001b[0m\n\u001b[0;32m    137\u001b[0m                 \u001b[0mprint\u001b[0m\u001b[1;33m(\u001b[0m\u001b[1;34m\"npz doesnot supported\"\u001b[0m\u001b[1;33m)\u001b[0m\u001b[1;33m\u001b[0m\u001b[1;33m\u001b[0m\u001b[0m\n",
      "\u001b[1;32m~\\AppData\\Roaming\\Python\\Python37\\site-packages\\numpy\\lib\\npyio.py\u001b[0m in \u001b[0;36mload\u001b[1;34m(file, mmap_mode, allow_pickle, fix_imports, encoding)\u001b[0m\n\u001b[0;32m    414\u001b[0m             \u001b[0mown_fid\u001b[0m \u001b[1;33m=\u001b[0m \u001b[1;32mFalse\u001b[0m\u001b[1;33m\u001b[0m\u001b[1;33m\u001b[0m\u001b[0m\n\u001b[0;32m    415\u001b[0m         \u001b[1;32melse\u001b[0m\u001b[1;33m:\u001b[0m\u001b[1;33m\u001b[0m\u001b[1;33m\u001b[0m\u001b[0m\n\u001b[1;32m--> 416\u001b[1;33m             \u001b[0mfid\u001b[0m \u001b[1;33m=\u001b[0m \u001b[0mstack\u001b[0m\u001b[1;33m.\u001b[0m\u001b[0menter_context\u001b[0m\u001b[1;33m(\u001b[0m\u001b[0mopen\u001b[0m\u001b[1;33m(\u001b[0m\u001b[0mos_fspath\u001b[0m\u001b[1;33m(\u001b[0m\u001b[0mfile\u001b[0m\u001b[1;33m)\u001b[0m\u001b[1;33m,\u001b[0m \u001b[1;34m\"rb\"\u001b[0m\u001b[1;33m)\u001b[0m\u001b[1;33m)\u001b[0m\u001b[1;33m\u001b[0m\u001b[1;33m\u001b[0m\u001b[0m\n\u001b[0m\u001b[0;32m    417\u001b[0m             \u001b[0mown_fid\u001b[0m \u001b[1;33m=\u001b[0m \u001b[1;32mTrue\u001b[0m\u001b[1;33m\u001b[0m\u001b[1;33m\u001b[0m\u001b[0m\n\u001b[0;32m    418\u001b[0m \u001b[1;33m\u001b[0m\u001b[0m\n",
      "\u001b[1;31mFileNotFoundError\u001b[0m: [Errno 2] No such file or directory: '../imgout/0106ML0/pressure/pressure_77.10.7_40.610.npy'"
     ]
    }
   ],
   "source": [
    "TARGET = \"pressure\" #ALTIMAGES等のディレクトリにくっつけます\n",
    "#それぞれ1番最後の'/'は忘れずつけること\n",
    "ALTIMAGES0 = root_dir + \"imgout/0106ML0/\"#リコネクションなし分割済データフォルダ.makesepnpy.ipynbであらかじめ分割データを入れておく\n",
    "ALTIMAGES1 = root_dir + \"imgout/0106ML1X/\"#リコネクションあり分割済データフォルダ.makesepnpy.ipynbであらかじめ分割データを入れておく\n",
    "LABEL_SOURCE0 = root_dir + \"txt/labels0/\"#リコネクションありのラベリングcsvのあるフォルダ\n",
    "LABEL_SOURCE1 = root_dir + \"txt/labels1X/\"#リコネクションなしのラベリングcsvのあるフォルダ\n",
    "IMGSHAPE = [10,100]#出来れば画像サイズはすべて同じで合ってほしい。違うサイズが混じる場合は最も多いサイズを指定すること\n",
    "DO_PCA = False #データ圧縮。IMGSHAPEと、データサイズが途方もなく多ければTrueにする。\n",
    "randomstate = None #学習時のパラメータ。初期値はNone。結果を固定したければ1とかに設定する。\n",
    "\n",
    "ML = MLs.ML(TARGET, ALTIMAGES0, ALTIMAGES1, LABEL_SOURCE0, LABEL_SOURCE1, IMGSHAPE, DO_PCA,randomstate=randomstate)"
   ]
  },
  {
   "cell_type": "code",
   "execution_count": 5,
   "metadata": {},
   "outputs": [
    {
     "name": "stdout",
     "output_type": "stream",
     "text": [
      "Train : 0.5757575757575758\n",
      "Test : 0.42857142857142855\n",
      "[0. 0. 0. 0. 0. 1. 0. 1. 0. 0. 1. 0. 0. 0. 0. 0. 0. 0. 0. 0. 0. 1. 0. 0.\n",
      " 0. 0. 0. 0.]\n"
     ]
    },
    {
     "name": "stderr",
     "output_type": "stream",
     "text": [
      "c:\\Users\\lkxl1\\Anaconda3\\lib\\site-packages\\sklearn\\svm\\_base.py:1208: ConvergenceWarning: Liblinear failed to converge, increase the number of iterations.\n",
      "  ConvergenceWarning,\n"
     ]
    }
   ],
   "source": [
    "#学習\n",
    "#モジュールに書いてるコードで実行\n",
    "# model = ML.linearSVC()   \n",
    "# ML.kneighbors()\n",
    "# ML.rbfSVC()\n",
    "# ML.XGBoost()\n",
    "\n",
    "#or\n",
    "#自由に記述し、MLクラスを利用して実行\n",
    "from sklearn.svm import LinearSVC\n",
    "def mylinearSVC(self):    \n",
    "        model = LinearSVC(C=0.3, random_state=self.RANDOMSTATE) # インスタンスを生成\n",
    "        model.fit(self.X_train, self.y_train) # モデルの学習\n",
    "        # 学習データに対する精度\n",
    "        print(\"Train :\", model.score(self.X_train, self.y_train)) \n",
    "        # テストデータに対する精度\n",
    "        print(\"Test :\", model.score(self.X_test, self.y_test)) \n",
    "        print(model.predict(self.X_test))\n",
    "        pred = model.predict(self.X_test)\n",
    "        svmres = pd.DataFrame(np.array([self.path_test, self.y_test, pred]).T, columns=[\"path\", \"y\", \"predict\"])\n",
    "        # print(classification_report(self.y_test, pred))\n",
    "        return model\n",
    "svm = mylinearSVC(ML)"
   ]
  },
  {
   "cell_type": "code",
   "execution_count": 7,
   "metadata": {},
   "outputs": [
    {
     "data": {
      "text/plain": [
       "['../imgout/test1227/magfieldx/magfieldx_49.10.3_47.773.npy',\n",
       " '../imgout/test1227/magfieldx/magfieldx_49.10.6_47.773.npy',\n",
       " '../imgout/test1227/magfieldx/magfieldx_49.12.13_147.452.npy',\n",
       " '../imgout/test1227/magfieldx/magfieldx_49.13.13_42.607.npy',\n",
       " '../imgout/test1227/magfieldx/magfieldx_49.7.13_127.625.npy',\n",
       " '../imgout/test1227/magfieldx/magfieldx_49.10.4_47.773.npy',\n",
       " '../imgout/test1227/magfieldx/magfieldx_49.13.13_102.420.npy',\n",
       " '../imgout/test1227/magfieldx/magfieldx_49.10.3_82.620.npy']"
      ]
     },
     "execution_count": 7,
     "metadata": {},
     "output_type": "execute_result"
    }
   ],
   "source": [
    "#参照可能なもの\n",
    "ML.PATH1\n",
    "ML.PATH0\n",
    "ML.ALLTARINDATA0\n",
    "ML.ALLTARINDATA1\n",
    "ML.PATH0TEST\n",
    "ML.PATH1TEST\n",
    "ML.PATH0TRAIN\n",
    "ML.PATH1TRAIN\n",
    "ML.X_test\n",
    "ML.y_test\n",
    "ML.path_test\n",
    "ML.X_train\n",
    "ML.y_train\n",
    "ML.path_train\n",
    "#後から変更可能なもの\n",
    "ML.randomstate = 1"
   ]
  },
  {
   "cell_type": "code",
   "execution_count": 7,
   "metadata": {},
   "outputs": [
    {
     "name": "stdout",
     "output_type": "stream",
     "text": [
      "LinearSVC(C=0.3)\n"
     ]
    }
   ],
   "source": [
    "#学習モデルをファイルに保存、読み込み例\n",
    "import pickle\n",
    "path = \"pickletest\"\n",
    "\n",
    "file = open(path, \"wb\") \n",
    "pickle.dump(svm, file)\n",
    "file.close\n",
    "\n",
    "with open(path, 'rb') as f:\n",
    "    dict = pickle.load(f)\n",
    "print(svm)"
   ]
  },
  {
   "cell_type": "code",
   "execution_count": null,
   "metadata": {},
   "outputs": [],
   "source": []
  }
 ],
 "metadata": {
  "kernelspec": {
   "display_name": "base",
   "language": "python",
   "name": "python3"
  },
  "language_info": {
   "codemirror_mode": {
    "name": "ipython",
    "version": 3
   },
   "file_extension": ".py",
   "mimetype": "text/x-python",
   "name": "python",
   "nbconvert_exporter": "python",
   "pygments_lexer": "ipython3",
   "version": "3.7.1"
  },
  "orig_nbformat": 4,
  "vscode": {
   "interpreter": {
    "hash": "f042362ee065dc60858c472817d1d4759aa3f58fd79a86ac939381b13a520f6f"
   }
  }
 },
 "nbformat": 4,
 "nbformat_minor": 2
}
