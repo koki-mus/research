{
 "cells": [
  {
   "cell_type": "code",
   "execution_count": 11,
   "metadata": {},
   "outputs": [],
   "source": [
    "import glob\n",
    "import os\n",
    "from dotenv import load_dotenv\n",
    "from mymodule import myfunc as mf\n",
    "load_dotenv()\n",
    "imgout = os.environ[\"imgout\"]\n",
    "root_dir = os.environ[\"root_dir\"]\n",
    "# indir = imgout + \"77AVS/\"\n",
    "# outdir = \"../imgout/AVSsplit/\"\n",
    "# outdir  = \"../imgout/77AVSsplit1/\""
   ]
  },
  {
   "cell_type": "code",
   "execution_count": 12,
   "metadata": {},
   "outputs": [],
   "source": [
    "datasets = [49,77,497]\n",
    "for dataset in datasets:\n",
    "    snaps = []\n",
    "    for job in range(20):\n",
    "        for para in range(100):\n",
    "            if not mf.gen_snap_path(\"magfieldx\", para, job, dataset = dataset)==None:\n",
    "                snaps.append({\"dataset\":dataset, \"para\":para , \"job\":job})\n",
    "    fpath = f\"../txt/snap{dataset}.csv\"\n",
    "    f = open(fpath, \"w\")\n",
    "    f.write(f',dataset,para,job,is_reconnecting\\n')\n",
    "    f.close()\n",
    "    f = open(fpath, \"a\")\n",
    "    index = 0\n",
    "    for snap in snaps:\n",
    "        f.write(f\"{index},{snap['dataset']},{snap['para']},{snap['job']},\\n\")\n",
    "        index+=1\n",
    "    f.close()"
   ]
  },
  {
   "cell_type": "code",
   "execution_count": null,
   "metadata": {},
   "outputs": [],
   "source": []
  }
 ],
 "metadata": {
  "kernelspec": {
   "display_name": "Python 3.10.7 64-bit",
   "language": "python",
   "name": "python3"
  },
  "language_info": {
   "codemirror_mode": {
    "name": "ipython",
    "version": 3
   },
   "file_extension": ".py",
   "mimetype": "text/x-python",
   "name": "python",
   "nbconvert_exporter": "python",
   "pygments_lexer": "ipython3",
   "version": "3.10.7"
  },
  "orig_nbformat": 4,
  "vscode": {
   "interpreter": {
    "hash": "6421c100b89c4feb9fb005f61fb54da3e1e62cfff126d543998553caed03568c"
   }
  }
 },
 "nbformat": 4,
 "nbformat_minor": 2
}
