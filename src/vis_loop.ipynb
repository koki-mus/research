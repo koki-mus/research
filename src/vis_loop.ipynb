{
 "cells": [
  {
   "cell_type": "code",
   "execution_count": 1,
   "metadata": {},
   "outputs": [],
   "source": [
    "import shutil\n",
    "import os\n",
    "import subprocess\n",
    "import numpy as np\n",
    "import os\n",
    "from dotenv import load_dotenv\n",
    "import glob\n",
    "from mymodule import myfunc as mf\n",
    "load_dotenv()\n",
    "imgout = os.environ[\"imgout\"]\n",
    "root_dir = os.environ[\"root_dir\"]\n"
   ]
  },
  {
   "cell_type": "code",
   "execution_count": 7,
   "metadata": {},
   "outputs": [
    {
     "name": "stdout",
     "output_type": "stream",
     "text": [
      "['.\\\\clustering.ipynb', '.\\\\imgsplit.ipynb', '.\\\\kelastrial.ipynb', '.\\\\ML.ipynb', '.\\\\MLimg.ipynb', '.\\\\mymodule', '.\\\\privjjj.py', '.\\\\privtemp.ipynb', '.\\\\privtest.ipynb', '.\\\\privvisualize.ipynb', '.\\\\priv_makearrow.py', '.\\\\streamplot.ipynb', '.\\\\visualize.ipynb', '.\\\\vis_loop.ipynb']\n",
      "None\n"
     ]
    }
   ],
   "source": [
    "para = 1\n",
    "job = 13\n",
    "dataset = 49\n",
    "\n",
    "xfile = mf.gen_snap_path(\"magfieldx\", para, job, dataset=dataset)\n",
    "yfile = mf.gen_snap_path(\"magfieldy\", para, job, dataset=dataset)\n",
    "outname = f\"{imgout}1122/magstream{para}.{job}.bmp\"\n",
    "a = mf.ohno_stream(xfile,yfile, outname)\n",
    "print(a.stdout)"
   ]
  },
  {
   "cell_type": "code",
   "execution_count": 10,
   "metadata": {},
   "outputs": [
    {
     "name": "stdout",
     "output_type": "stream",
     "text": [
      "strm09.14\n"
     ]
    }
   ],
   "source": [
    "dataset = \"49\"\n",
    "xpaths = glob.glob(f\"C:/Users/lkxl1/OneDrive/デスクトップ/research/snap/snap{dataset}/magfieldx/*/*\")\n",
    "ypaths = glob.glob(f\"C:/Users/lkxl1/OneDrive/デスクトップ/research/snap/snap{dataset}/magfieldy/*/*\")\n",
    "\n",
    "if len(xpaths) == len(ypaths):\n",
    "    for i in range(len(xpaths)):\n",
    "        xfile = xpaths[i]\n",
    "        yfile = ypaths[i]\n",
    "        outname = f\"{imgout}1124/strm{dataset}.{xfile[-5:]}\"\n",
    "        # a = mf.ohno_stream(xfile,yfile, outname)\n",
    "print(outname)"
   ]
  },
  {
   "cell_type": "code",
   "execution_count": null,
   "metadata": {},
   "outputs": [],
   "source": []
  }
 ],
 "metadata": {
  "kernelspec": {
   "display_name": "base",
   "language": "python",
   "name": "python3"
  },
  "language_info": {
   "codemirror_mode": {
    "name": "ipython",
    "version": 3
   },
   "file_extension": ".py",
   "mimetype": "text/x-python",
   "name": "python",
   "nbconvert_exporter": "python",
   "pygments_lexer": "ipython3",
   "version": "3.7.1"
  },
  "orig_nbformat": 4,
  "vscode": {
   "interpreter": {
    "hash": "f042362ee065dc60858c472817d1d4759aa3f58fd79a86ac939381b13a520f6f"
   }
  }
 },
 "nbformat": 4,
 "nbformat_minor": 2
}
