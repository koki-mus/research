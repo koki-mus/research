{
 "cells": [
  {
   "cell_type": "code",
   "execution_count": 6,
   "metadata": {},
   "outputs": [],
   "source": [
    "from mymodule import myfunc as mf\n",
    "import pandas as pd\n",
    "import numpy as np\n",
    "df = pd.read_csv(\"../txt/labels0/test.csv\")\n",
    "root_dir = \"../\"\n",
    "\n",
    "target =\"magfieldx\"\n",
    "outdir = \"../imgout/test1227/\"\n",
    "\n"
   ]
  },
  {
   "cell_type": "code",
   "execution_count": 7,
   "metadata": {},
   "outputs": [
    {
     "name": "stdout",
     "output_type": "stream",
     "text": [
      "../imgout/test_1227/magfieldx/magfieldx_49.13.13_147.452\n",
      "../imgout/test_1227/magfieldx/magfieldx_49.13.13_121.625\n",
      "../imgout/test_1227/magfieldx/magfieldx_49.13.13_89.432\n",
      "../imgout/test_1227/magfieldx/magfieldx_49.13.13_102.420\n",
      "../imgout/test_1227/magfieldx/magfieldx_49.13.13_42.607\n",
      "../imgout/test_1227/magfieldx/magfieldx_49.13.13_51.562\n",
      "../imgout/test_1227/magfieldx/magfieldx_49.13.13_65.580\n",
      "../imgout/test_1227/magfieldx/magfieldx_49.10.6_47.773\n",
      "../imgout/test_1227/magfieldx/magfieldx_49.12.13_77.455\n",
      "../imgout/test_1227/magfieldx/magfieldx_49.12.13_104.432\n",
      "../imgout/test_1227/magfieldx/magfieldx_49.12.13_114.607\n",
      "../imgout/test_1227/magfieldx/magfieldx_49.12.13_147.452\n",
      "../imgout/test_1227/magfieldx/magfieldx_49.10.3_47.773\n",
      "../imgout/test_1227/magfieldx/magfieldx_49.10.3_82.620\n",
      "../imgout/test_1227/magfieldx/magfieldx_49.10.3_130.410\n",
      "../imgout/test_1227/magfieldx/magfieldx_49.10.5_47.773\n",
      "../imgout/test_1227/magfieldx/magfieldx_49.7.13_91.427\n",
      "../imgout/test_1227/magfieldx/magfieldx_49.7.13_115.616\n",
      "../imgout/test_1227/magfieldx/magfieldx_49.7.13_127.625\n",
      "../imgout/test_1227/magfieldx/magfieldx_49.7.13_144.423\n",
      "../imgout/test_1227/magfieldx/magfieldx_49.7.13_11.486\n",
      "../imgout/test_1227/magfieldx/magfieldx_49.10.4_47.773\n"
     ]
    }
   ],
   "source": [
    "for snap, dataset, para, job in set(zip(df[\"snappath\"], df[\"dataset\"], df[\"para\"], df[\"job\"])):\n",
    "    dftemp = df[df[\"snappath\"] ==snap]\n",
    "    im = mf.load(mf.gen_snap_path(target,tuple(dftemp[\"para\"])[0],tuple(dftemp[\"job\"])[0],tuple(dftemp[\"dataset\"])[0]))\n",
    "    for xlow,xup,ylow,yup, centerx, centery in zip(dftemp[\"xlow\"],dftemp[\"xup\"],dftemp[\"ylow\"],dftemp[\"yup\"], dftemp[\"centerx\"], dftemp[\"centery\"]):\n",
    "        separated_im = im[ylow:yup,xlow:xup]\n",
    "        np.save(outdir+f\"{target}/{target}_{dataset}.{para}.{job}_{centerx}.{centery}\", separated_im)\n",
    "        print(outdir+f\"{target}/{target}_{dataset}.{para}.{job}_{centerx}.{centery}\")\n",
    "        "
   ]
  },
  {
   "cell_type": "code",
   "execution_count": null,
   "metadata": {},
   "outputs": [],
   "source": []
  }
 ],
 "metadata": {
  "kernelspec": {
   "display_name": "base",
   "language": "python",
   "name": "python3"
  },
  "language_info": {
   "codemirror_mode": {
    "name": "ipython",
    "version": 3
   },
   "file_extension": ".py",
   "mimetype": "text/x-python",
   "name": "python",
   "nbconvert_exporter": "python",
   "pygments_lexer": "ipython3",
   "version": "3.7.1 (default, Dec 10 2018, 22:54:23) [MSC v.1915 64 bit (AMD64)]"
  },
  "orig_nbformat": 4,
  "vscode": {
   "interpreter": {
    "hash": "f042362ee065dc60858c472817d1d4759aa3f58fd79a86ac939381b13a520f6f"
   }
  }
 },
 "nbformat": 4,
 "nbformat_minor": 2
}
