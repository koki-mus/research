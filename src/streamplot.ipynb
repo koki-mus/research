{
 "cells": [
  {
   "cell_type": "code",
   "execution_count": 3,
   "metadata": {},
   "outputs": [],
   "source": [
    "import py_compile\n",
    "import numpy as np\n",
    "import matplotlib.pyplot as plt\n",
    "import seaborn as sns\n",
    "import cv2\n",
    "import os\n",
    "from dotenv import load_dotenv\n",
    "\n",
    "from mymodule import myfunc as mf\n",
    "load_dotenv()\n",
    "imgout = os.environ[\"imgout\"]\n",
    "root_dir = os.environ[\"root_dir\"]\n",
    "snaps_dir = os.environ[\"snaps_dir\"]\n"
   ]
  },
  {
   "cell_type": "code",
   "execution_count": 5,
   "metadata": {},
   "outputs": [
    {
     "data": {
      "text/plain": [
       "<Figure size 640x480 with 0 Axes>"
      ]
     },
     "metadata": {},
     "output_type": "display_data"
    }
   ],
   "source": [
    "\n",
    "######################\n",
    "def stream_plt(X, Y, xrange=False, yrange= False, compress=0):\n",
    "    dataX = X\n",
    "    dataY = Y\n",
    "    if xrange:\n",
    "        # dataX = X[350:700, 304:384]\n",
    "        # dataY = Y[350:700, 304:384]\n",
    "        dataX = dataX[:,xrange[0]:xrange[1]]\n",
    "        dataY = dataY[:,xrange[0]:xrange[1]]\n",
    "\n",
    "    if yrange:\n",
    "        dataX = dataX[yrange[0]:yrange[1],:]\n",
    "        dataY = dataY[yrange[0]:yrange[1],:]\n",
    "\n",
    "    #計算が重いので平滑化フィルターの畳み込みで圧縮\n",
    "    if compress:\n",
    "        carnel1 = mf.ave_carnel(compress)\n",
    "        carnel2 = carnel1.T\n",
    "        dataX = mf.convolute(dataX, carnel2,stride=compress)\n",
    "        dataY = mf.convolute(dataY, carnel1,stride=compress)\n",
    "    x = range(dataX.shape[1])\n",
    "    y = range(dataY.shape[0])\n",
    "    #X,Y方向それぞれのベクトルに対して座標の行列を設定\n",
    "    X, Y = np.meshgrid(x, y)\n",
    "    #X,Y方向それぞれのベクトルの強さ\n",
    "    u = dataX\n",
    "    v = dataY\n",
    "    color = u**2 + v**2\n",
    "    color = color*2/max(color.flat)\n",
    "    #########rotの計算途中の微分でデータの端っこが削れる\n",
    "    rot = mf.rot2d(u, v)\n",
    "    u = u[2:-2,2:-2]\n",
    "    v = v[2:-2,2:-2]\n",
    "    X = X[2:-2,2:-2]\n",
    "    Y = Y[2:-2,2:-2]\n",
    "    ##########\n",
    "    rad = np.arccos(u/np.sqrt(u**2+v**2))\n",
    "    color2 = np.array(v) / np.array(u)\n",
    "    color2 = color2 - min(color2.flat)\n",
    "    color2 = color2/max(color2.flat)\n",
    "    speed = np.sqrt(u**2 + v**2)\n",
    "    lw = 7*speed / speed.max()\n",
    "\n",
    "    fig = plt.figure(figsize=[24,14])\n",
    "    ax = fig.add_subplot()\n",
    "    ax.set_title(f\"x:{xrange},y:{yrange}\")\n",
    "    # plt.contour(X,Y,rad)\n",
    "    # mf.show(rad)#,bar_range=[-0.05,0.05])\n",
    "    sns.heatmap(rad, cmap=\"bwr\")\n",
    "    # sns.heatmap(dataY)\n",
    "    # plot = plt.pcolor(rad, cmap=\"bwr\")\n",
    "    #strm = plt.streamplot(X, Y, u, v, density=[5], color=color, arrowstyle='-', linewidth=1,cmap=\"rainbow\")\n",
    "    # strm = plt.streamplot(X, Y, u, v, density=[3], color=rot, arrowstyle='-', linewidth=lw,cmap=\"rainbow\")\n",
    "    strm = plt.streamplot(X, Y, u, v, density=[10], color=\"black\", arrowstyle='-', linewidth=1.5,cmap=\"bwr\", minlength=0.001)\n",
    "\n",
    "\n",
    "    #strm = plt.streamplot(X, Y, u, v, density=[1,5], color=black, arrowstyle='-|>', linewidth=1)\n",
    "    \n",
    "    #fig.colorbar(strm.lines)\n",
    "    # plt.show()\n",
    "\n",
    "number =0\n",
    "xranges = [[10,90],[70,120],[90,160],[140,190],[190,250],[230,300]]\n",
    "yranges = [[400,650]]\n",
    "for yrange in yranges:\n",
    "    for xrange in xranges:\n",
    "        number += 1\n",
    "        for job in [13]:#[8,10,11,12,13,14]:\n",
    "            for para in range(1,21,20):\n",
    "                try:\n",
    "                    dataX = mf.load(mf.gen_snap_path(\"magfieldX\",para,job), z=3)\n",
    "                    dataY = mf.load(mf.gen_snap_path(\"magfieldY\",para,job), z=3)\n",
    "                except FileNotFoundError:\n",
    "                    continue\n",
    "                plt.clf()\n",
    "                stream =stream_plt(dataX,dataY, xrange=xrange, yrange=yrange)\n",
    "        \n",
    "                #plt.savefig(f\"{imgout}1018magline/stream.{'{0:02d}'.format(job)}.{'{0:02d}'.format(para)}.png\")\n",
    "                plt.savefig(f\"{imgout}1025strm49/{number}/stream.{'{0:02d}'.format(job)}.{'{0:02d}'.format(para)}.png\")\n",
    "                plt.close()\n",
    "        \n",
    "\n",
    "######################\n",
    "\n"
   ]
  },
  {
   "cell_type": "code",
   "execution_count": null,
   "metadata": {},
   "outputs": [],
   "source": []
  },
  {
   "cell_type": "code",
   "execution_count": null,
   "metadata": {},
   "outputs": [
    {
     "data": {
      "text/plain": [
       "[304, 314, 324, 334, 344, 354, 364, 374]"
      ]
     },
     "execution_count": 42,
     "metadata": {},
     "output_type": "execute_result"
    }
   ],
   "source": []
  },
  {
   "cell_type": "code",
   "execution_count": null,
   "metadata": {},
   "outputs": [],
   "source": []
  }
 ],
 "metadata": {
  "kernelspec": {
   "display_name": "Python 3.10.7 64-bit",
   "language": "python",
   "name": "python3"
  },
  "language_info": {
   "codemirror_mode": {
    "name": "ipython",
    "version": 3
   },
   "file_extension": ".py",
   "mimetype": "text/x-python",
   "name": "python",
   "nbconvert_exporter": "python",
   "pygments_lexer": "ipython3",
   "version": "3.10.7"
  },
  "orig_nbformat": 4,
  "vscode": {
   "interpreter": {
    "hash": "6421c100b89c4feb9fb005f61fb54da3e1e62cfff126d543998553caed03568c"
   }
  }
 },
 "nbformat": 4,
 "nbformat_minor": 2
}
