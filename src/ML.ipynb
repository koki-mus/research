{
 "cells": [
  {
   "cell_type": "markdown",
   "metadata": {},
   "source": [
    "https://sorabatake.jp/11731/"
   ]
  },
  {
   "cell_type": "code",
   "execution_count": 1,
   "metadata": {},
   "outputs": [
    {
     "name": "stderr",
     "output_type": "stream",
     "text": [
      "UsageError: unrecognized arguments: #図をJupyter Notebook内に表示させる\n"
     ]
    }
   ],
   "source": [
    "import numpy as np \n",
    "import random #擬似乱数を生成するライブラリー \n",
    "from PIL import Image, ImageOps #画像処理ライブラリー\n",
    "from sklearn.metrics import accuracy_score #モデルの正解率を計算するライブラリー\n",
    "import glob #ファイルパス名を取得するライブラリ\n",
    "import matplotlib.pyplot as plt #図をプロットするためのライブラリー\n",
    "%matplotlib inline #図をJupyter Notebook内に表示させる\n"
   ]
  },
  {
   "cell_type": "code",
   "execution_count": null,
   "metadata": {},
   "outputs": [],
   "source": []
  }
 ],
 "metadata": {
  "kernelspec": {
   "display_name": "Python 3.10.7 64-bit",
   "language": "python",
   "name": "python3"
  },
  "language_info": {
   "codemirror_mode": {
    "name": "ipython",
    "version": 3
   },
   "file_extension": ".py",
   "mimetype": "text/x-python",
   "name": "python",
   "nbconvert_exporter": "python",
   "pygments_lexer": "ipython3",
   "version": "3.10.7"
  },
  "orig_nbformat": 4,
  "vscode": {
   "interpreter": {
    "hash": "6421c100b89c4feb9fb005f61fb54da3e1e62cfff126d543998553caed03568c"
   }
  }
 },
 "nbformat": 4,
 "nbformat_minor": 2
}
