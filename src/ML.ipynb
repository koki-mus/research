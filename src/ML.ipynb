{
 "cells": [
  {
   "cell_type": "markdown",
   "metadata": {},
   "source": [
    "https://sorabatake.jp/11731/"
   ]
  },
  {
   "cell_type": "code",
   "execution_count": 42,
   "metadata": {},
   "outputs": [
    {
     "name": "stdout",
     "output_type": "stream",
     "text": [
      "result   Y,X: 102 51\n",
      "original Y,X: (1025, 513)\n",
      "(102, 51)\n"
     ]
    }
   ],
   "source": [
    "import numpy as np \n",
    "import os\n",
    "import random \n",
    "#擬似乱数を生成するライブラリー \n",
    "from PIL import Image, ImageOps \n",
    "#画像処理ライブラリー\n",
    "from sklearn.metrics import accuracy_score \n",
    "#モデルの正解率を計算するライブラリー\n",
    "import glob \n",
    "#ファイルパス名を取得するライブラリ\n",
    "import matplotlib.pyplot as plt \n",
    "#図をプロットするためのライブラリー\n",
    "\n",
    "from mymodule import myfunc as mf\n",
    "%matplotlib inline\n",
    "\n",
    "PATH0 = \"../snap/density/05/*\"#コネクションなし\n",
    "PATH1 = \"../snap/density/07/*\"#コネクションありに変える\n",
    "PATH0TEST =\"../snap/density/03/*\"\n",
    "PATH1TEST =\"../snap/density/08/*\"\n",
    "ALTIMAGES0 = \"../imgout/MLtest/0/*\"\n",
    "ALTIMAGES1 = \"../imgout/MLtest/1/*\"\n",
    "def compress(array, LEVEL=10):\n",
    "    return mf.convolute(array,mf.ave_carnel(LEVEL), stride = LEVEL)\n",
    "temp = compress(mf.load(mf.gen_snap_path(\"density\",1,1),z=3))\n",
    "IMGSHAPE = temp.shape\n",
    "print(IMGSHAPE)\n",
    "\n",
    "np.random.seed(0) \n",
    " #乱数のシードの設定"
   ]
  },
  {
   "cell_type": "markdown",
   "metadata": {},
   "source": [
    "# テストデータと訓練データを分ける\n",
    "#### パスのリストを作って分ける場合\n",
    "以下globで取得するとこをかきかえなければ\n",
    "\n",
    "動作は軽いけど、ALTIMAGEと統合もしやすそう\n",
    "\n",
    "#### フォルダにファイルコピーする場合\n",
    "重いだけ？"
   ]
  },
  {
   "cell_type": "code",
   "execution_count": null,
   "metadata": {},
   "outputs": [],
   "source": []
  },
  {
   "cell_type": "markdown",
   "metadata": {},
   "source": [
    "# 水増し"
   ]
  },
  {
   "cell_type": "code",
   "execution_count": 33,
   "metadata": {},
   "outputs": [],
   "source": [
    "#雲がない画像ファイルのパスのリストを取得\n",
    "files = glob.glob(PATH0) \n",
    "\n",
    "#出力ディレクトリのパス\n",
    "temp_output_dir = ALTIMAGES0\n",
    "\n",
    "#ランダムな領域の切り取りを行う関数\n",
    "def random_crop(imagearay, size=0.8):\n",
    "    height, width, _ = imagearay.shape\n",
    "    crop_size = int(min(height, width) * size)\n",
    "\n",
    "    top = np.random.randint(0, height - crop_size)\n",
    "    left = np.random.randint(0, width - crop_size)\n",
    "    bottom = top + crop_size\n",
    "    right = left + crop_size\n",
    "    imagearay = imagearay[top:bottom, left:right,:]\n",
    "    #motonosaizunimoosu\n",
    "    return imagearay\n",
    "\n",
    "def altarray_save(item):\n",
    "    img = mf.load(item, z=3)\n",
    "    file_name = os.path.basename(item)\n",
    "    \n",
    "    img_flip = np.flipud(img) # 画像の上下反転\n",
    "    np.save(temp_output_dir + \"flip_\" + file_name , img_flip) # 画像保存\n",
    "        \n",
    "    img_mirror = np.fliplr(img) # 画像の左右反転\n",
    "    np.save(temp_output_dir + \"mirr_\" + file_name , img_mirror) # 画像保存\n",
    "            \n",
    "    img_T = img.T # 画像の左右反転\n",
    "    np.save(temp_output_dir + \"trns_\" + file_name , img_mirror) # 画像保存\n",
    "    \n",
    "    # img_crop = random_crop(img) # 画像の切り取り\n",
    "    # img_crop = img_crop.resize((256, 256)) # 元のサイズに戻す\n",
    "    # img_crop.save(temp_output_dir + file_name + \"_crop.png\") # 画像保存\n",
    " \n",
    "for item in files:\n",
    "    \n",
    "    altarray_save(item)"
   ]
  },
  {
   "cell_type": "code",
   "execution_count": 34,
   "metadata": {},
   "outputs": [],
   "source": [
    "#雲がある画像ファイルのパスのリストを取得\n",
    "files = glob.glob(PATH1) \n",
    "\n",
    "#出力ディレクトリのパス\n",
    "temp_output_dir = ALTIMAGES1\n",
    "\n",
    "for item in files:\n",
    "    altarray_save(item)\n"
   ]
  },
  {
   "cell_type": "markdown",
   "metadata": {},
   "source": [
    "# 読み込み"
   ]
  },
  {
   "cell_type": "code",
   "execution_count": 73,
   "metadata": {},
   "outputs": [
    {
     "name": "stdout",
     "output_type": "stream",
     "text": [
      "result   Y,X: 102 51\n",
      "original Y,X: (1025, 513)\n",
      "result   Y,X: 102 51\n",
      "original Y,X: (1025, 513)\n",
      "result   Y,X: 102 51\n",
      "original Y,X: (1025, 513)\n",
      "result   Y,X: 102 51\n",
      "original Y,X: (1025, 513)\n",
      "result   Y,X: 102 51\n",
      "original Y,X: (1025, 513)\n",
      "result   Y,X: 102 51\n",
      "original Y,X: (1025, 513)\n",
      "result   Y,X: 102 51\n",
      "original Y,X: (1025, 513)\n",
      "result   Y,X: 102 51\n",
      "original Y,X: (1025, 513)\n",
      "result   Y,X: 102 51\n",
      "original Y,X: (1025, 513)\n",
      "result   Y,X: 102 51\n",
      "original Y,X: (1025, 513)\n",
      "result   Y,X: 102 51\n",
      "original Y,X: (1025, 513)\n",
      "result   Y,X: 102 51\n",
      "original Y,X: (1025, 513)\n",
      "result   Y,X: 102 51\n",
      "original Y,X: (1025, 513)\n",
      "result   Y,X: 102 51\n",
      "original Y,X: (1025, 513)\n",
      "result   Y,X: 102 51\n",
      "original Y,X: (1025, 513)\n",
      "result   Y,X: 102 51\n",
      "original Y,X: (1025, 513)\n",
      "result   Y,X: 102 51\n",
      "original Y,X: (1025, 513)\n",
      "result   Y,X: 102 51\n",
      "original Y,X: (1025, 513)\n",
      "result   Y,X: 102 51\n",
      "original Y,X: (1025, 513)\n",
      "result   Y,X: 102 51\n",
      "original Y,X: (1025, 513)\n",
      "result   Y,X: 102 51\n",
      "original Y,X: (1025, 513)\n",
      "result   Y,X: 102 51\n",
      "original Y,X: (1025, 513)\n",
      "result   Y,X: 102 51\n",
      "original Y,X: (1025, 513)\n",
      "result   Y,X: 102 51\n",
      "original Y,X: (1025, 513)\n",
      "result   Y,X: 102 51\n",
      "original Y,X: (1025, 513)\n",
      "result   Y,X: 102 51\n",
      "original Y,X: (1025, 513)\n",
      "result   Y,X: 102 51\n",
      "original Y,X: (1025, 513)\n",
      "result   Y,X: 102 51\n",
      "original Y,X: (1025, 513)\n",
      "result   Y,X: 102 51\n",
      "original Y,X: (1025, 513)\n",
      "result   Y,X: 102 51\n",
      "original Y,X: (1025, 513)\n",
      "result   Y,X: 102 51\n",
      "original Y,X: (1025, 513)\n",
      "result   Y,X: 102 51\n",
      "original Y,X: (1025, 513)\n",
      "result   Y,X: 102 51\n",
      "original Y,X: (1025, 513)\n",
      "result   Y,X: 102 51\n",
      "original Y,X: (1025, 513)\n",
      "result   Y,X: 102 51\n",
      "original Y,X: (1025, 513)\n",
      "result   Y,X: 102 51\n",
      "original Y,X: (1025, 513)\n",
      "result   Y,X: 102 51\n",
      "original Y,X: (1025, 513)\n",
      "result   Y,X: 102 51\n",
      "original Y,X: (1025, 513)\n",
      "result   Y,X: 102 51\n",
      "original Y,X: (1025, 513)\n",
      "result   Y,X: 102 51\n",
      "original Y,X: (1025, 513)\n",
      "result   Y,X: 102 51\n",
      "original Y,X: (1025, 513)\n",
      "result   Y,X: 102 51\n",
      "original Y,X: (1025, 513)\n",
      "result   Y,X: 102 51\n",
      "original Y,X: (1025, 513)\n",
      "result   Y,X: 102 51\n",
      "original Y,X: (1025, 513)\n",
      "result   Y,X: 102 51\n",
      "original Y,X: (1025, 513)\n",
      "result   Y,X: 102 51\n",
      "original Y,X: (1025, 513)\n",
      "result   Y,X: 102 51\n",
      "original Y,X: (1025, 513)\n",
      "result   Y,X: 102 51\n",
      "original Y,X: (1025, 513)\n",
      "result   Y,X: 102 51\n",
      "original Y,X: (1025, 513)\n",
      "result   Y,X: 102 51\n",
      "original Y,X: (1025, 513)\n",
      "result   Y,X: 102 51\n",
      "original Y,X: (1025, 513)\n",
      "result   Y,X: 102 51\n",
      "original Y,X: (1025, 513)\n",
      "result   Y,X: 102 51\n",
      "original Y,X: (1025, 513)\n",
      "result   Y,X: 102 51\n",
      "original Y,X: (1025, 513)\n",
      "result   Y,X: 102 51\n",
      "original Y,X: (1025, 513)\n",
      "result   Y,X: 102 51\n",
      "original Y,X: (1025, 513)\n",
      "result   Y,X: 102 51\n",
      "original Y,X: (1025, 513)\n",
      "result   Y,X: 102 51\n",
      "original Y,X: (1025, 513)\n",
      "result   Y,X: 102 51\n",
      "original Y,X: (1025, 513)\n",
      "result   Y,X: 102 51\n",
      "original Y,X: (1025, 513)\n",
      "result   Y,X: 102 51\n",
      "original Y,X: (1025, 513)\n",
      "result   Y,X: 102 51\n",
      "original Y,X: (1025, 513)\n",
      "result   Y,X: 102 51\n",
      "original Y,X: (1025, 513)\n",
      "result   Y,X: 102 51\n",
      "original Y,X: (1025, 513)\n",
      "result   Y,X: 102 51\n",
      "original Y,X: (1025, 513)\n",
      "result   Y,X: 102 51\n",
      "original Y,X: (1025, 513)\n",
      "result   Y,X: 102 51\n",
      "original Y,X: (1025, 513)\n",
      "result   Y,X: 102 51\n",
      "original Y,X: (1025, 513)\n",
      "result   Y,X: 102 51\n",
      "original Y,X: (1025, 513)\n",
      "result   Y,X: 102 51\n",
      "original Y,X: (1025, 513)\n",
      "result   Y,X: 102 51\n",
      "original Y,X: (1025, 513)\n",
      "result   Y,X: 102 51\n",
      "original Y,X: (1025, 513)\n",
      "result   Y,X: 102 51\n",
      "original Y,X: (1025, 513)\n",
      "result   Y,X: 102 51\n",
      "original Y,X: (1025, 513)\n",
      "result   Y,X: 102 51\n",
      "original Y,X: (1025, 513)\n",
      "result   Y,X: 102 51\n",
      "original Y,X: (1025, 513)\n",
      "result   Y,X: 102 51\n",
      "original Y,X: (1025, 513)\n",
      "result   Y,X: 102 51\n",
      "original Y,X: (1025, 513)\n",
      "result   Y,X: 102 51\n",
      "original Y,X: (1025, 513)\n",
      "result   Y,X: 102 51\n",
      "original Y,X: (1025, 513)\n",
      "result   Y,X: 102 51\n",
      "original Y,X: (1025, 513)\n",
      "result   Y,X: 102 51\n",
      "original Y,X: (1025, 513)\n",
      "result   Y,X: 102 51\n",
      "original Y,X: (1025, 513)\n",
      "result   Y,X: 102 51\n",
      "original Y,X: (1025, 513)\n",
      "result   Y,X: 102 51\n",
      "original Y,X: (1025, 513)\n",
      "result   Y,X: 102 51\n",
      "original Y,X: (1025, 513)\n",
      "result   Y,X: 102 51\n",
      "original Y,X: (1025, 513)\n",
      "result   Y,X: 102 51\n",
      "original Y,X: (1025, 513)\n",
      "result   Y,X: 102 51\n",
      "original Y,X: (1025, 513)\n",
      "result   Y,X: 102 51\n",
      "original Y,X: (1025, 513)\n",
      "result   Y,X: 102 51\n",
      "original Y,X: (1025, 513)\n",
      "result   Y,X: 102 51\n",
      "original Y,X: (1025, 513)\n",
      "result   Y,X: 102 51\n",
      "original Y,X: (1025, 513)\n",
      "result   Y,X: 102 51\n",
      "original Y,X: (1025, 513)\n",
      "result   Y,X: 102 51\n",
      "original Y,X: (1025, 513)\n",
      "result   Y,X: 102 51\n",
      "original Y,X: (1025, 513)\n",
      "result   Y,X: 102 51\n",
      "original Y,X: (1025, 513)\n",
      "result   Y,X: 102 51\n",
      "original Y,X: (1025, 513)\n",
      "result   Y,X: 102 51\n",
      "original Y,X: (1025, 513)\n",
      "result   Y,X: 102 51\n",
      "original Y,X: (1025, 513)\n",
      "result   Y,X: 102 51\n",
      "original Y,X: (1025, 513)\n",
      "result   Y,X: 102 51\n",
      "original Y,X: (1025, 513)\n",
      "result   Y,X: 102 51\n",
      "original Y,X: (1025, 513)\n",
      "result   Y,X: 102 51\n",
      "original Y,X: (1025, 513)\n",
      "result   Y,X: 102 51\n",
      "original Y,X: (1025, 513)\n",
      "result   Y,X: 102 51\n",
      "original Y,X: (1025, 513)\n",
      "result   Y,X: 102 51\n",
      "original Y,X: (1025, 513)\n",
      "result   Y,X: 102 51\n",
      "original Y,X: (1025, 513)\n",
      "result   Y,X: 102 51\n",
      "original Y,X: (1025, 513)\n",
      "result   Y,X: 102 51\n",
      "original Y,X: (1025, 513)\n",
      "result   Y,X: 102 51\n",
      "original Y,X: (1025, 513)\n",
      "result   Y,X: 102 51\n",
      "original Y,X: (1025, 513)\n",
      "result   Y,X: 102 51\n",
      "original Y,X: (1025, 513)\n",
      "result   Y,X: 102 51\n",
      "original Y,X: (1025, 513)\n",
      "result   Y,X: 102 51\n",
      "original Y,X: (1025, 513)\n",
      "result   Y,X: 102 51\n",
      "original Y,X: (1025, 513)\n",
      "result   Y,X: 102 51\n",
      "original Y,X: (1025, 513)\n",
      "result   Y,X: 102 51\n",
      "original Y,X: (1025, 513)\n",
      "result   Y,X: 102 51\n",
      "original Y,X: (1025, 513)\n",
      "result   Y,X: 102 51\n",
      "original Y,X: (1025, 513)\n"
     ]
    }
   ],
   "source": [
    "# 訓練データ\n",
    "num_of_data_clear = len(glob.glob(ALTIMAGES0)) # 雲がない画像の枚数\n",
    "num_of_data_cloudy = len(glob.glob(ALTIMAGES1)) # 雲がある画像の枚数\n",
    "num_of_data_total = num_of_data_clear + num_of_data_cloudy # 学習データの全枚数\n",
    "\n",
    "N_col = IMGSHAPE[0]*IMGSHAPE[1]*1 # 行列の列数\n",
    "X_train = np.zeros((num_of_data_total, N_col)) # 学習データ格納のためゼロ行列生成\n",
    "y_train = np.zeros((num_of_data_total)) # 学習データに対するラベルを格納するためのゼロ行列生成\n",
    "\n",
    "# 雲がない画像を行列に読み込む\n",
    "path_list = glob.glob(ALTIMAGES0) \n",
    "i_count = 0\n",
    "\n",
    "def load_regularize(item, type):\n",
    "    if type == \"b\":\n",
    "        im = mf.load(item, z=3)\n",
    "    elif type == \"np\":\n",
    "        im = np.load(item)\n",
    "    else:\n",
    "        raise \"type argument required 'b' or 'np'\"\n",
    "    img_resize = compress(im)\n",
    "    return ((img_resize - min(img_resize.flat)) / max(img_resize.flat)).flat # 正規化\n",
    "\n",
    "for item in path_list:\n",
    "    X_train[i_count,:] = load_regularize(item, type=\"np\")\n",
    "    y_train[i_count] = 0 # 雲がないことを表すラベル\n",
    "    i_count += 1\n",
    "  \n",
    "# 雲がある画像を行列に読み込む\n",
    "path_list = glob.glob(ALTIMAGES1) \n",
    "\n",
    "for item in path_list:\n",
    "    X_train[i_count,:] = load_regularize(item, type=\"np\")\n",
    "    y_train[i_count] = 1 # 雲があることを表すラベル\n",
    "    i_count += 1"
   ]
  },
  {
   "cell_type": "code",
   "execution_count": 74,
   "metadata": {},
   "outputs": [
    {
     "name": "stdout",
     "output_type": "stream",
     "text": [
      "result   Y,X: 102 51\n",
      "original Y,X: (1025, 513)\n",
      "result   Y,X: 102 51\n",
      "original Y,X: (1025, 513)\n",
      "result   Y,X: 102 51\n",
      "original Y,X: (1025, 513)\n",
      "result   Y,X: 102 51\n",
      "original Y,X: (1025, 513)\n",
      "result   Y,X: 102 51\n",
      "original Y,X: (1025, 513)\n",
      "result   Y,X: 102 51\n",
      "original Y,X: (1025, 513)\n",
      "result   Y,X: 102 51\n",
      "original Y,X: (1025, 513)\n",
      "result   Y,X: 102 51\n",
      "original Y,X: (1025, 513)\n",
      "result   Y,X: 102 51\n",
      "original Y,X: (1025, 513)\n",
      "result   Y,X: 102 51\n",
      "original Y,X: (1025, 513)\n",
      "result   Y,X: 102 51\n",
      "original Y,X: (1025, 513)\n",
      "result   Y,X: 102 51\n",
      "original Y,X: (1025, 513)\n",
      "result   Y,X: 102 51\n",
      "original Y,X: (1025, 513)\n",
      "result   Y,X: 102 51\n",
      "original Y,X: (1025, 513)\n",
      "result   Y,X: 102 51\n",
      "original Y,X: (1025, 513)\n",
      "result   Y,X: 102 51\n",
      "original Y,X: (1025, 513)\n",
      "result   Y,X: 102 51\n",
      "original Y,X: (1025, 513)\n",
      "result   Y,X: 102 51\n",
      "original Y,X: (1025, 513)\n",
      "result   Y,X: 102 51\n",
      "original Y,X: (1025, 513)\n",
      "result   Y,X: 102 51\n",
      "original Y,X: (1025, 513)\n",
      "result   Y,X: 102 51\n",
      "original Y,X: (1025, 513)\n",
      "result   Y,X: 102 51\n",
      "original Y,X: (1025, 513)\n",
      "result   Y,X: 102 51\n",
      "original Y,X: (1025, 513)\n",
      "result   Y,X: 102 51\n",
      "original Y,X: (1025, 513)\n",
      "result   Y,X: 102 51\n",
      "original Y,X: (1025, 513)\n",
      "result   Y,X: 102 51\n",
      "original Y,X: (1025, 513)\n",
      "result   Y,X: 102 51\n",
      "original Y,X: (1025, 513)\n",
      "result   Y,X: 102 51\n",
      "original Y,X: (1025, 513)\n",
      "result   Y,X: 102 51\n",
      "original Y,X: (1025, 513)\n",
      "result   Y,X: 102 51\n",
      "original Y,X: (1025, 513)\n",
      "result   Y,X: 102 51\n",
      "original Y,X: (1025, 513)\n",
      "result   Y,X: 102 51\n",
      "original Y,X: (1025, 513)\n",
      "result   Y,X: 102 51\n",
      "original Y,X: (1025, 513)\n",
      "result   Y,X: 102 51\n",
      "original Y,X: (1025, 513)\n",
      "result   Y,X: 102 51\n",
      "original Y,X: (1025, 513)\n",
      "result   Y,X: 102 51\n",
      "original Y,X: (1025, 513)\n",
      "result   Y,X: 102 51\n",
      "original Y,X: (1025, 513)\n",
      "result   Y,X: 102 51\n",
      "original Y,X: (1025, 513)\n",
      "result   Y,X: 102 51\n",
      "original Y,X: (1025, 513)\n",
      "result   Y,X: 102 51\n",
      "original Y,X: (1025, 513)\n"
     ]
    }
   ],
   "source": [
    "# テストデータ\n",
    "num_of_data_clear = len(glob.glob(PATH0TEST)) # 雲がない画像の枚数\n",
    "num_of_data_cloudy = len(glob.glob(PATH1TEST)) # 雲がある画像の枚数\n",
    "num_of_data_total = num_of_data_clear + num_of_data_cloudy # テストデータの全枚数\n",
    "\n",
    "N_col = IMGSHAPE[0]*IMGSHAPE[1]*1 # 行列の列数(RGBなら*3)\n",
    "X_test = np.zeros((num_of_data_total, N_col)) # テストデータ格納のためゼロ行列生成\n",
    "y_test = np.zeros(num_of_data_total) # テストデータに対するラベルを格納するためのゼロ行列生成\n",
    "\n",
    "# 雲がない画像を行列に読み込む\n",
    "path_list = glob.glob(PATH0TEST) \n",
    "i_count = 0\n",
    "for item in path_list:\n",
    "\n",
    "    X_test[i_count,:] = load_regularize(item, type=\"b\")\n",
    "    y_test[i_count] = 0 # 雲がないことを表すラベル\n",
    "    i_count += 1\n",
    "\n",
    "# 雲がある画像を行列に読み込む\n",
    "path_list = glob.glob(PATH1TEST) \n",
    "\n",
    "for item in path_list:\n",
    "    X_test[i_count,:] = load_regularize(item, type=\"b\")\n",
    "    y_test[i_count] = 1 # 雲があることを表すラベル\n",
    "    i_count += 1 "
   ]
  },
  {
   "cell_type": "markdown",
   "metadata": {},
   "source": [
    "# 学習"
   ]
  },
  {
   "cell_type": "markdown",
   "metadata": {},
   "source": [
    "# PCA"
   ]
  },
  {
   "cell_type": "code",
   "execution_count": 75,
   "metadata": {},
   "outputs": [
    {
     "name": "stdout",
     "output_type": "stream",
     "text": [
      "累積寄与率: 0.9999999999999996\n"
     ]
    }
   ],
   "source": [
    "from sklearn.decomposition import PCA\n",
    "N_dim =  100 # 49152(=128×128×3)の列を100列に落とし込む\n",
    "\n",
    "pca = PCA(n_components=N_dim, random_state=0)\n",
    "\n",
    "X_train_pca = pca.fit_transform(X_train)\n",
    "X_test_pca = pca.transform(X_test)\n",
    "\n",
    "print('累積寄与率: {0}'.format(sum(pca.explained_variance_ratio_)))"
   ]
  },
  {
   "cell_type": "markdown",
   "metadata": {},
   "source": [
    "# Linear SVC"
   ]
  },
  {
   "cell_type": "code",
   "execution_count": 76,
   "metadata": {},
   "outputs": [
    {
     "name": "stdout",
     "output_type": "stream",
     "text": [
      "Train : 1.0\n",
      "Test : 1.0\n"
     ]
    },
    {
     "name": "stderr",
     "output_type": "stream",
     "text": [
      "c:\\Users\\lkxl1\\Anaconda3\\lib\\site-packages\\sklearn\\svm\\_base.py:1208: ConvergenceWarning: Liblinear failed to converge, increase the number of iterations.\n",
      "  ConvergenceWarning,\n"
     ]
    }
   ],
   "source": [
    "from sklearn.svm import LinearSVC # ライブラリのインポート\n",
    "\n",
    "model = LinearSVC(C=0.3, random_state=0) # インスタンスを生成\n",
    "\n",
    "model.fit(X_train_pca, y_train) # モデルの学習\n",
    "\n",
    "# 学習データに対する精度\n",
    "print(\"Train :\", model.score(X_train_pca,  y_train)) \n",
    "\n",
    "# テストデータに対する精度\n",
    "print(\"Test :\", model.score(X_test_pca, y_test)) "
   ]
  },
  {
   "cell_type": "markdown",
   "metadata": {},
   "source": [
    "# KNeighbors Classifier"
   ]
  },
  {
   "cell_type": "code",
   "execution_count": 78,
   "metadata": {},
   "outputs": [
    {
     "name": "stdout",
     "output_type": "stream",
     "text": [
      "Train : 0.8333333333333334\n",
      "Test : 0.5\n"
     ]
    }
   ],
   "source": [
    "from sklearn.neighbors import KNeighborsClassifier # ライブラリのインポート\n",
    "\n",
    "n_neighbors = int(np.sqrt(6000))  # kの設定\n",
    "\n",
    "model = KNeighborsClassifier(n_neighbors = n_neighbors)  \n",
    "model.fit(X_train_pca, y_train) # モデルの学習\n",
    "    \n",
    "# 精度\n",
    "print(\"Train :\", model.score(X_train_pca, y_train))\n",
    "print(\"Test :\", model.score(X_test_pca, y_test))"
   ]
  },
  {
   "cell_type": "markdown",
   "metadata": {},
   "source": [
    "# 非線形SVC RBFカーネル"
   ]
  },
  {
   "cell_type": "code",
   "execution_count": 80,
   "metadata": {},
   "outputs": [
    {
     "name": "stdout",
     "output_type": "stream",
     "text": [
      "Train : 1.0\n",
      "Test : 0.5\n"
     ]
    }
   ],
   "source": [
    "\n",
    "from sklearn.svm import SVC # ライブラリのインポート\n",
    "\n",
    "model = SVC(C=0.3, kernel='rbf', random_state=0) # インスタンスを生成 \n",
    "\n",
    "model.fit(X_train_pca, y_train) # モデルの学習\n",
    "\n",
    "# 精度\n",
    "print(\"Train :\", model.score(X_train_pca,  y_train))\n",
    "print(\"Test :\", model.score(X_test_pca, y_test))"
   ]
  },
  {
   "cell_type": "markdown",
   "metadata": {},
   "source": [
    "# XGBoost"
   ]
  },
  {
   "cell_type": "code",
   "execution_count": 82,
   "metadata": {},
   "outputs": [
    {
     "name": "stdout",
     "output_type": "stream",
     "text": [
      "[15:18:06] WARNING: C:\\Windows\\Temp\\abs_557yfx631l\\croots\\recipe\\xgboost-split_1659548953302\\work\\src\\learner.cc:1115: Starting in XGBoost 1.3.0, the default evaluation metric used with the objective 'binary:logistic' was changed from 'error' to 'logloss'. Explicitly set eval_metric if you'd like to restore the old behavior.\n",
      "Train : 1.0\n",
      "Test : 1.0\n"
     ]
    },
    {
     "name": "stderr",
     "output_type": "stream",
     "text": [
      "c:\\Users\\lkxl1\\Anaconda3\\lib\\site-packages\\xgboost\\sklearn.py:1224: UserWarning: The use of label encoder in XGBClassifier is deprecated and will be removed in a future release. To remove this warning, do the following: 1) Pass option use_label_encoder=False when constructing XGBClassifier object; and 2) Encode your labels (y) as integers starting with 0, i.e. 0, 1, 2, ..., [num_class - 1].\n",
      "  warnings.warn(label_encoder_deprecation_msg, UserWarning)\n"
     ]
    }
   ],
   "source": [
    "import xgboost as xgb # ライブラリのインポート\n",
    "\n",
    "model = xgb.XGBClassifier(n_estimators=80, max_depth=4, gamma=3) # インスタンスの生成\n",
    "           \n",
    "model.fit(X_train_pca, y_train) # モデルの学習\n",
    "   \n",
    "# 精度\n",
    "print(\"Train :\", model.score(X_train_pca,  y_train))\n",
    "print(\"Test :\", model.score(X_test_pca, y_test))"
   ]
  },
  {
   "cell_type": "markdown",
   "metadata": {},
   "source": [
    "# まとめ"
   ]
  },
  {
   "cell_type": "code",
   "execution_count": 83,
   "metadata": {},
   "outputs": [
    {
     "ename": "NameError",
     "evalue": "name 'learning_curve' is not defined",
     "output_type": "error",
     "traceback": [
      "\u001b[1;31m---------------------------------------------------------------------------\u001b[0m",
      "\u001b[1;31mNameError\u001b[0m                                 Traceback (most recent call last)",
      "\u001b[1;32m~\\AppData\\Local\\Temp\\ipykernel_6924\\2528042999.py\u001b[0m in \u001b[0;36m<module>\u001b[1;34m\u001b[0m\n\u001b[0;32m      1\u001b[0m \u001b[0mtrain_sizes\u001b[0m \u001b[1;33m=\u001b[0m \u001b[0mnp\u001b[0m\u001b[1;33m.\u001b[0m\u001b[0marray\u001b[0m\u001b[1;33m(\u001b[0m\u001b[1;33m[\u001b[0m\u001b[1;36m0.1\u001b[0m\u001b[1;33m,\u001b[0m \u001b[1;36m0.33\u001b[0m\u001b[1;33m,\u001b[0m \u001b[1;36m0.55\u001b[0m\u001b[1;33m,\u001b[0m \u001b[1;36m0.78\u001b[0m\u001b[1;33m,\u001b[0m \u001b[1;36m1.\u001b[0m \u001b[1;33m]\u001b[0m\u001b[1;33m)\u001b[0m \u001b[1;31m# 用いる学習データの割合を全体の0.1〜1まで変化させる\u001b[0m\u001b[1;33m\u001b[0m\u001b[1;33m\u001b[0m\u001b[0m\n\u001b[0;32m      2\u001b[0m \u001b[1;33m\u001b[0m\u001b[0m\n\u001b[1;32m----> 3\u001b[1;33m train_sizes, train_scores_linearSVC, test_scores_linearSVC = learning_curve(\n\u001b[0m\u001b[0;32m      4\u001b[0m     \u001b[0mmodel_linearSVC\u001b[0m\u001b[1;33m,\u001b[0m \u001b[0mX_train_pca\u001b[0m\u001b[1;33m,\u001b[0m \u001b[0my_train\u001b[0m\u001b[1;33m,\u001b[0m \u001b[0mcv\u001b[0m\u001b[1;33m=\u001b[0m\u001b[1;36m5\u001b[0m\u001b[1;33m,\u001b[0m \u001b[0mtrain_sizes\u001b[0m\u001b[1;33m=\u001b[0m\u001b[0mtrain_sizes\u001b[0m\u001b[1;33m,\u001b[0m \u001b[0mrandom_state\u001b[0m\u001b[1;33m=\u001b[0m\u001b[1;36m0\u001b[0m\u001b[1;33m,\u001b[0m \u001b[0mshuffle\u001b[0m\u001b[1;33m=\u001b[0m\u001b[1;32mTrue\u001b[0m\u001b[1;33m\u001b[0m\u001b[1;33m\u001b[0m\u001b[0m\n\u001b[0;32m      5\u001b[0m     ) # 様々学習データ数に対して、モデルを学習・評価する。\n",
      "\u001b[1;31mNameError\u001b[0m: name 'learning_curve' is not defined"
     ]
    }
   ],
   "source": [
    "train_sizes = np.array([0.1, 0.33, 0.55, 0.78, 1. ]) # 用いる学習データの割合を全体の0.1〜1まで変化させる\n",
    "\n",
    "train_sizes, train_scores_linearSVC, test_scores_linearSVC = learning_curve(\n",
    "    model_linearSVC, X_train_pca, y_train, cv=5, train_sizes=train_sizes, random_state=0, shuffle=True\n",
    "    ) # 様々学習データ数に対して、モデルを学習・評価する。\n",
    "\n",
    "# 各学習データ数の場合について学習用データと検証用データに対する精度を求める。\n",
    "train_scores_mean_linearSVC = np.mean(train_scores_linearSVC, axis=1)\n",
    "train_scores_std_linearSVC = np.std(train_scores_linearSVC, axis=1)\n",
    "validation_scores_mean_linearSVC = np.mean(validation_scores_linearSVC, axis=1)\n",
    "validation_scores_std_linearSVC = np.std(validation_scores_linearSVC, axis=1)"
   ]
  },
  {
   "cell_type": "code",
   "execution_count": 84,
   "metadata": {},
   "outputs": [
    {
     "ename": "NameError",
     "evalue": "name 'train_scores_mean_linearSVC' is not defined",
     "output_type": "error",
     "traceback": [
      "\u001b[1;31m---------------------------------------------------------------------------\u001b[0m",
      "\u001b[1;31mNameError\u001b[0m                                 Traceback (most recent call last)",
      "\u001b[1;32m~\\AppData\\Local\\Temp\\ipykernel_6924\\3256842223.py\u001b[0m in \u001b[0;36m<module>\u001b[1;34m\u001b[0m\n\u001b[0;32m      3\u001b[0m \u001b[1;33m\u001b[0m\u001b[0m\n\u001b[0;32m      4\u001b[0m \u001b[1;31m# Linear SVCの学習曲線\u001b[0m\u001b[1;33m\u001b[0m\u001b[1;33m\u001b[0m\u001b[1;33m\u001b[0m\u001b[0m\n\u001b[1;32m----> 5\u001b[1;33m \u001b[0max\u001b[0m\u001b[1;33m[\u001b[0m\u001b[1;36m0\u001b[0m\u001b[1;33m,\u001b[0m\u001b[1;36m0\u001b[0m\u001b[1;33m]\u001b[0m\u001b[1;33m.\u001b[0m\u001b[0mplot\u001b[0m\u001b[1;33m(\u001b[0m\u001b[0mtrain_sizes\u001b[0m\u001b[1;33m,\u001b[0m \u001b[0mtrain_scores_mean_linearSVC\u001b[0m\u001b[1;33m,\u001b[0m \u001b[1;34m'o-'\u001b[0m\u001b[1;33m,\u001b[0m \u001b[0mcolor\u001b[0m\u001b[1;33m=\u001b[0m\u001b[1;34m\"r\"\u001b[0m\u001b[1;33m,\u001b[0m \u001b[0mlabel\u001b[0m\u001b[1;33m=\u001b[0m\u001b[1;34m\"Training score\"\u001b[0m\u001b[1;33m)\u001b[0m\u001b[1;33m\u001b[0m\u001b[1;33m\u001b[0m\u001b[0m\n\u001b[0m\u001b[0;32m      6\u001b[0m \u001b[0max\u001b[0m\u001b[1;33m[\u001b[0m\u001b[1;36m0\u001b[0m\u001b[1;33m,\u001b[0m\u001b[1;36m0\u001b[0m\u001b[1;33m]\u001b[0m\u001b[1;33m.\u001b[0m\u001b[0mplot\u001b[0m\u001b[1;33m(\u001b[0m\u001b[0mtrain_sizes\u001b[0m\u001b[1;33m,\u001b[0m \u001b[0mvalidation_scores_mean_linearSVC\u001b[0m\u001b[1;33m,\u001b[0m \u001b[1;34m'o-'\u001b[0m\u001b[1;33m,\u001b[0m \u001b[0mcolor\u001b[0m\u001b[1;33m=\u001b[0m\u001b[1;34m\"g\"\u001b[0m\u001b[1;33m,\u001b[0m \u001b[0mlabel\u001b[0m\u001b[1;33m=\u001b[0m\u001b[1;34m\"Test score\"\u001b[0m\u001b[1;33m)\u001b[0m\u001b[1;33m\u001b[0m\u001b[1;33m\u001b[0m\u001b[0m\n\u001b[0;32m      7\u001b[0m \u001b[1;33m\u001b[0m\u001b[0m\n",
      "\u001b[1;31mNameError\u001b[0m: name 'train_scores_mean_linearSVC' is not defined"
     ]
    },
    {
     "data": {
      "image/png": "[encoded data removed]",
      "text/plain": [
       "<Figure size 864x576 with 4 Axes>"
      ]
     },
     "metadata": {
      "needs_background": "light"
     },
     "output_type": "display_data"
    }
   ],
   "source": [
    "fig, ax = plt.subplots(2, 2, figsize=(12, 8))\n",
    "plt.subplots_adjust(wspace=0.4, hspace=0.6)\n",
    "\n",
    "# Linear SVCの学習曲線\n",
    "ax[0,0].plot(train_sizes, train_scores_mean_linearSVC, 'o-', color=\"r\", label=\"Training score\")\n",
    "ax[0,0].plot(train_sizes, validation_scores_mean_linearSVC, 'o-', color=\"g\", label=\"Test score\")\n",
    "\n",
    "ax[0, 0].set_title('Linear SVC')\n",
    "ax[0, 0].set_xlabel('Number of Taining data')\n",
    "ax[0, 0].set_ylabel('Accyracy')\n",
    "ax[0,0].set_ylim(0.4, 0.8)\n",
    "ax[0,0].legend(loc=\"best\")\n",
    "\n",
    "# kNNの学習曲線\n",
    "ax[1,0].plot(train_sizes, train_scores_mean_kNN, 'o-', color=\"r\", label=\"Training score\")\n",
    "ax[1,0].plot(train_sizes, validation_scores_mean_kNN, 'o-', color=\"g\", label=\"Test score\")\n",
    "\n",
    "ax[1, 0].set_title('k-NN')\n",
    "ax[1, 0].set_xlabel('Number of Taining data')\n",
    "ax[1, 0].set_ylabel('Accuracy')\n",
    "ax[1,0].set_ylim(0.5, 0.7)\n",
    "ax[1,0].legend(loc=\"best\")\n",
    "\n",
    "# 非線形SVCの学習曲線\n",
    "ax[0,1].plot(train_sizes, train_scores_mean_nonlinearSVC, 'o-', color=\"r\", label=\"Training score\")\n",
    "ax[0,1].plot(train_sizes, validation_scores_mean_nonlinearSVC, 'o-', color=\"g\", label=\"Test score\")\n",
    "ax[0, 1].set_title('non-linear SVC')\n",
    "ax[0, 1].set_xlabel('Number of Taining data')\n",
    "ax[0, 1].set_ylabel('Accuracy')\n",
    "ax[0,1].set_ylim(0.7, 0.9)\n",
    "ax[0,1].legend(loc=\"best\")\n",
    "\n",
    "# XGBoostの学習曲線\n",
    "ax[1,1].plot(train_sizes, train_scores_mean_xgb, 'o-', color=\"r\", label=\"Training score\")\n",
    "ax[1,1].plot(train_sizes, validation_scores_mean_xgb, 'o-', color=\"g\", label=\"Test score\")\n",
    "\n",
    "ax[1, 1].set_title('XGBoost')\n",
    "ax[1, 1].set_xlabel('Number of Taining data')\n",
    "ax[1, 1].set_ylabel('Accuracy')\n",
    "ax[1,1].set_ylim(0.7, 1.0)\n",
    "ax[1,1].legend(loc=\"best\")"
   ]
  },
  {
   "cell_type": "code",
   "execution_count": 7,
   "metadata": {},
   "outputs": [
    {
     "name": "stdout",
     "output_type": "stream",
     "text": [
      "C:/Users/lkxl1/OneDrive/デスクトップ/research/bigendian_data/\n"
     ]
    }
   ],
   "source": [
    "import matplotlib.pyplot as plt\n",
    "from mymodule import myfunc as mf\n",
    "vX = mf.load(mf.gen_snap_path(\"velocityX\",1,1),z=3)"
   ]
  },
  {
   "cell_type": "code",
   "execution_count": 15,
   "metadata": {},
   "outputs": [
    {
     "ename": "UnidentifiedImageError",
     "evalue": "cannot identify image file '../snap/velocityX/01/velocityX.01.01'",
     "output_type": "error",
     "traceback": [
      "\u001b[1;31m---------------------------------------------------------------------------\u001b[0m",
      "\u001b[1;31mUnidentifiedImageError\u001b[0m                    Traceback (most recent call last)",
      "\u001b[1;32m~\\AppData\\Local\\Temp\\ipykernel_6924\\3820625956.py\u001b[0m in \u001b[0;36m<module>\u001b[1;34m\u001b[0m\n\u001b[1;32m----> 1\u001b[1;33m \u001b[0mimg\u001b[0m \u001b[1;33m=\u001b[0m \u001b[0mImage\u001b[0m\u001b[1;33m.\u001b[0m\u001b[0mopen\u001b[0m\u001b[1;33m(\u001b[0m\u001b[1;34m\"../snap/velocityX/01/velocityX.01.01\"\u001b[0m\u001b[1;33m)\u001b[0m\u001b[1;33m\u001b[0m\u001b[1;33m\u001b[0m\u001b[0m\n\u001b[0m\u001b[0;32m      2\u001b[0m \u001b[0mimg_rotate\u001b[0m \u001b[1;33m=\u001b[0m \u001b[0mimg\u001b[0m\u001b[1;33m.\u001b[0m\u001b[0mrotate\u001b[0m\u001b[1;33m(\u001b[0m\u001b[1;36m90\u001b[0m\u001b[1;33m)\u001b[0m\u001b[1;33m\u001b[0m\u001b[1;33m\u001b[0m\u001b[0m\n",
      "\u001b[1;32m~\\AppData\\Roaming\\Python\\Python37\\site-packages\\PIL\\Image.py\u001b[0m in \u001b[0;36mopen\u001b[1;34m(fp, mode)\u001b[0m\n\u001b[0;32m   2929\u001b[0m         \u001b[0mwarnings\u001b[0m\u001b[1;33m.\u001b[0m\u001b[0mwarn\u001b[0m\u001b[1;33m(\u001b[0m\u001b[0mmessage\u001b[0m\u001b[1;33m)\u001b[0m\u001b[1;33m\u001b[0m\u001b[1;33m\u001b[0m\u001b[0m\n\u001b[0;32m   2930\u001b[0m     raise UnidentifiedImageError(\n\u001b[1;32m-> 2931\u001b[1;33m         \u001b[1;34m\"cannot identify image file %r\"\u001b[0m \u001b[1;33m%\u001b[0m \u001b[1;33m(\u001b[0m\u001b[0mfilename\u001b[0m \u001b[1;32mif\u001b[0m \u001b[0mfilename\u001b[0m \u001b[1;32melse\u001b[0m \u001b[0mfp\u001b[0m\u001b[1;33m)\u001b[0m\u001b[1;33m\u001b[0m\u001b[1;33m\u001b[0m\u001b[0m\n\u001b[0m\u001b[0;32m   2932\u001b[0m     )\n\u001b[0;32m   2933\u001b[0m \u001b[1;33m\u001b[0m\u001b[0m\n",
      "\u001b[1;31mUnidentifiedImageError\u001b[0m: cannot identify image file '../snap/velocityX/01/velocityX.01.01'"
     ]
    }
   ],
   "source": [
    "img = Image.open(\"../snap/velocityX/01/velocityX.01.01\")\n",
    "img_rotate = img.rotate(90)"
   ]
  },
  {
   "cell_type": "code",
   "execution_count": 13,
   "metadata": {},
   "outputs": [
    {
     "data": {
      "text/plain": [
       "'C:/Users/lkxl1/OneDrive/デスクトップ/research/snap/velocityX/01/velocityX.01.01'"
      ]
     },
     "execution_count": 13,
     "metadata": {},
     "output_type": "execute_result"
    }
   ],
   "source": [
    "mf.gen_snap_path(\"velocityX\",1,1)"
   ]
  },
  {
   "cell_type": "code",
   "execution_count": 17,
   "metadata": {},
   "outputs": [],
   "source": [
    "img = Image.open(\"../imgout/1005/png/density.1.png\")"
   ]
  },
  {
   "cell_type": "code",
   "execution_count": 19,
   "metadata": {},
   "outputs": [
    {
     "ename": "AttributeError",
     "evalue": "'PngImageFile' object has no attribute 'type'",
     "output_type": "error",
     "traceback": [
      "\u001b[1;31m---------------------------------------------------------------------------\u001b[0m",
      "\u001b[1;31mAttributeError\u001b[0m                            Traceback (most recent call last)",
      "\u001b[1;32m~\\AppData\\Local\\Temp\\ipykernel_6924\\1848194438.py\u001b[0m in \u001b[0;36m<module>\u001b[1;34m\u001b[0m\n\u001b[1;32m----> 1\u001b[1;33m \u001b[0mimg\u001b[0m\u001b[1;33m.\u001b[0m\u001b[0mtype\u001b[0m\u001b[1;33m\u001b[0m\u001b[1;33m\u001b[0m\u001b[0m\n\u001b[0m",
      "\u001b[1;31mAttributeError\u001b[0m: 'PngImageFile' object has no attribute 'type'"
     ]
    }
   ],
   "source": [
    "img.type"
   ]
  },
  {
   "cell_type": "code",
   "execution_count": 43,
   "metadata": {},
   "outputs": [
    {
     "data": {
      "text/plain": [
       "['../imgout/MLtest/0\\\\flip_density.01.05.npy',\n",
       " '../imgout/MLtest/0\\\\flip_density.02.05.npy',\n",
       " '../imgout/MLtest/0\\\\flip_density.03.05.npy',\n",
       " '../imgout/MLtest/0\\\\flip_density.04.05.npy',\n",
       " '../imgout/MLtest/0\\\\flip_density.05.05.npy',\n",
       " '../imgout/MLtest/0\\\\flip_density.06.05.npy',\n",
       " '../imgout/MLtest/0\\\\flip_density.07.05.npy',\n",
       " '../imgout/MLtest/0\\\\flip_density.08.05.npy',\n",
       " '../imgout/MLtest/0\\\\flip_density.09.05.npy',\n",
       " '../imgout/MLtest/0\\\\flip_density.10.05.npy',\n",
       " '../imgout/MLtest/0\\\\flip_density.11.05.npy',\n",
       " '../imgout/MLtest/0\\\\flip_density.12.05.npy',\n",
       " '../imgout/MLtest/0\\\\flip_density.13.05.npy',\n",
       " '../imgout/MLtest/0\\\\flip_density.14.05.npy',\n",
       " '../imgout/MLtest/0\\\\flip_density.15.05.npy',\n",
       " '../imgout/MLtest/0\\\\flip_density.16.05.npy',\n",
       " '../imgout/MLtest/0\\\\flip_density.17.05.npy',\n",
       " '../imgout/MLtest/0\\\\flip_density.18.05.npy',\n",
       " '../imgout/MLtest/0\\\\flip_density.19.05.npy',\n",
       " '../imgout/MLtest/0\\\\flip_density.20.05.npy',\n",
       " '../imgout/MLtest/0\\\\mirr_density.01.05.npy',\n",
       " '../imgout/MLtest/0\\\\mirr_density.02.05.npy',\n",
       " '../imgout/MLtest/0\\\\mirr_density.03.05.npy',\n",
       " '../imgout/MLtest/0\\\\mirr_density.04.05.npy',\n",
       " '../imgout/MLtest/0\\\\mirr_density.05.05.npy',\n",
       " '../imgout/MLtest/0\\\\mirr_density.06.05.npy',\n",
       " '../imgout/MLtest/0\\\\mirr_density.07.05.npy',\n",
       " '../imgout/MLtest/0\\\\mirr_density.08.05.npy',\n",
       " '../imgout/MLtest/0\\\\mirr_density.09.05.npy',\n",
       " '../imgout/MLtest/0\\\\mirr_density.10.05.npy',\n",
       " '../imgout/MLtest/0\\\\mirr_density.11.05.npy',\n",
       " '../imgout/MLtest/0\\\\mirr_density.12.05.npy',\n",
       " '../imgout/MLtest/0\\\\mirr_density.13.05.npy',\n",
       " '../imgout/MLtest/0\\\\mirr_density.14.05.npy',\n",
       " '../imgout/MLtest/0\\\\mirr_density.15.05.npy',\n",
       " '../imgout/MLtest/0\\\\mirr_density.16.05.npy',\n",
       " '../imgout/MLtest/0\\\\mirr_density.17.05.npy',\n",
       " '../imgout/MLtest/0\\\\mirr_density.18.05.npy',\n",
       " '../imgout/MLtest/0\\\\mirr_density.19.05.npy',\n",
       " '../imgout/MLtest/0\\\\mirr_density.20.05.npy',\n",
       " '../imgout/MLtest/0\\\\trns_density.01.05.npy',\n",
       " '../imgout/MLtest/0\\\\trns_density.02.05.npy',\n",
       " '../imgout/MLtest/0\\\\trns_density.03.05.npy',\n",
       " '../imgout/MLtest/0\\\\trns_density.04.05.npy',\n",
       " '../imgout/MLtest/0\\\\trns_density.05.05.npy',\n",
       " '../imgout/MLtest/0\\\\trns_density.06.05.npy',\n",
       " '../imgout/MLtest/0\\\\trns_density.07.05.npy',\n",
       " '../imgout/MLtest/0\\\\trns_density.08.05.npy',\n",
       " '../imgout/MLtest/0\\\\trns_density.09.05.npy',\n",
       " '../imgout/MLtest/0\\\\trns_density.10.05.npy',\n",
       " '../imgout/MLtest/0\\\\trns_density.11.05.npy',\n",
       " '../imgout/MLtest/0\\\\trns_density.12.05.npy',\n",
       " '../imgout/MLtest/0\\\\trns_density.13.05.npy',\n",
       " '../imgout/MLtest/0\\\\trns_density.14.05.npy',\n",
       " '../imgout/MLtest/0\\\\trns_density.15.05.npy',\n",
       " '../imgout/MLtest/0\\\\trns_density.16.05.npy',\n",
       " '../imgout/MLtest/0\\\\trns_density.17.05.npy',\n",
       " '../imgout/MLtest/0\\\\trns_density.18.05.npy',\n",
       " '../imgout/MLtest/0\\\\trns_density.19.05.npy',\n",
       " '../imgout/MLtest/0\\\\trns_density.20.05.npy']"
      ]
     },
     "execution_count": 43,
     "metadata": {},
     "output_type": "execute_result"
    }
   ],
   "source": [
    "glob.glob(ALTIMAGES0) "
   ]
  },
  {
   "cell_type": "code",
   "execution_count": 69,
   "metadata": {},
   "outputs": [
    {
     "data": {
      "text/plain": [
       "array([0.6685802 , 0.66858032, 0.66858038, ..., 0.00578028, 0.00577998,\n",
       "       0.00577924])"
      ]
     },
     "execution_count": 69,
     "metadata": {},
     "output_type": "execute_result"
    }
   ],
   "source": [
    "X_train[0]"
   ]
  },
  {
   "cell_type": "code",
   "execution_count": 71,
   "metadata": {},
   "outputs": [
    {
     "data": {
      "text/plain": [
       "(40, 5202)"
      ]
     },
     "execution_count": 71,
     "metadata": {},
     "output_type": "execute_result"
    }
   ],
   "source": [
    "np.zeros((num_of_data_total, N_col)).shape"
   ]
  },
  {
   "cell_type": "code",
   "execution_count": 72,
   "metadata": {},
   "outputs": [
    {
     "data": {
      "text/plain": [
       "40"
      ]
     },
     "execution_count": 72,
     "metadata": {},
     "output_type": "execute_result"
    }
   ],
   "source": [
    "num_of_data_total"
   ]
  },
  {
   "cell_type": "code",
   "execution_count": null,
   "metadata": {},
   "outputs": [],
   "source": []
  }
 ],
 "metadata": {
  "kernelspec": {
   "display_name": "Python 3.7.1 ('base')",
   "language": "python",
   "name": "python3"
  },
  "language_info": {
   "codemirror_mode": {
    "name": "ipython",
    "version": 3
   },
   "file_extension": ".py",
   "mimetype": "text/x-python",
   "name": "python",
   "nbconvert_exporter": "python",
   "pygments_lexer": "ipython3",
   "version": "3.7.1"
  },
  "orig_nbformat": 4,
  "vscode": {
   "interpreter": {
    "hash": "f042362ee065dc60858c472817d1d4759aa3f58fd79a86ac939381b13a520f6f"
   }
  }
 },
 "nbformat": 4,
 "nbformat_minor": 2
}
