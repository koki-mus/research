{
 "cells": [
  {
   "cell_type": "code",
   "execution_count": 1,
   "metadata": {},
   "outputs": [],
   "source": [
    "from PIL import Image\n",
    "import cv2\n",
    "import matplotlib.pyplot as plt\n",
    "import glob\n",
    "import os\n",
    "indir = \"../AVS/\"\n",
    "# outdir = \"../imgout/AVSsprit/\"\n",
    "outdir  = \"../imgout/sprittest/\"\n"
   ]
  },
  {
   "cell_type": "code",
   "execution_count": 2,
   "metadata": {},
   "outputs": [],
   "source": [
    "def infile(num):\n",
    "    num = \"{:03}\".format(num)\n",
    "    return f\"{indir}img00_00{num}.jpg\"\n"
   ]
  },
  {
   "cell_type": "code",
   "execution_count": 11,
   "metadata": {},
   "outputs": [],
   "source": [
    "\n",
    "sep = [[60,210],[190,305],[300,410],[400,530],[495,580]]\n",
    "\n",
    "for s in range(len(sep)):\n",
    "    for path in glob.glob(f\"{indir}*.jpg\"):\n",
    "\n",
    "        name = os.path.basename(path)\n",
    "        im = cv2.imread(path)[103:408,sep[s][0]:sep[s][1]]\n",
    "        cv2.imwrite(outdir + f\"{s}/{s}_{name}\", im)"
   ]
  },
  {
   "cell_type": "code",
   "execution_count": null,
   "metadata": {},
   "outputs": [],
   "source": [
    "sep = [[60,210],[190,305],[300,410],[400,530],[495,580]]\n",
    "\n",
    "for s in range(len(sep)):\n",
    "    for path in glob.glob(f\"{indir}*.jpg\"):\n",
    "\n",
    "        name = os.path.basename(path)\n",
    "        im = cv2.imread(path)[103:408,sep[s][0]:sep[s][1]]\n",
    "        cv2.imwrite(outdir + f\"{s}/{s}_{name}\", im)"
   ]
  }
 ],
 "metadata": {
  "kernelspec": {
   "display_name": "Python 3.10.7 64-bit",
   "language": "python",
   "name": "python3"
  },
  "language_info": {
   "codemirror_mode": {
    "name": "ipython",
    "version": 3
   },
   "file_extension": ".py",
   "mimetype": "text/x-python",
   "name": "python",
   "nbconvert_exporter": "python",
   "pygments_lexer": "ipython3",
   "version": "3.10.7"
  },
  "orig_nbformat": 4,
  "vscode": {
   "interpreter": {
    "hash": "6421c100b89c4feb9fb005f61fb54da3e1e62cfff126d543998553caed03568c"
   }
  }
 },
 "nbformat": 4,
 "nbformat_minor": 2
}
