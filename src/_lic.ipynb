{
 "cells": [
  {
   "cell_type": "code",
   "execution_count": 1,
   "metadata": {},
   "outputs": [],
   "source": [
    "import numpy as np\n",
    "import matplotlib.pyplot as plt\n",
    "import cv2\n",
    "import os\n",
    "from dotenv import load_dotenv\n",
    "import glob\n",
    "from mymodule import myfunc as mf\n",
    "load_dotenv()\n",
    "imgout = os.environ[\"imgout\"]\n",
    "root_dir = os.environ[\"root_dir\"]"
   ]
  },
  {
   "cell_type": "code",
   "execution_count": 16,
   "metadata": {},
   "outputs": [
    {
     "name": "stderr",
     "output_type": "stream",
     "text": [
      "generate lics: 100%|██████████| 8/8 [00:02<00:00,  3.97it/s]\n",
      "generate lics: 100%|██████████| 7/7 [00:01<00:00,  4.34it/s]\n",
      "C:\\Users\\lkxl1\\AppData\\Roaming\\Python\\Python37\\site-packages\\ipykernel_launcher.py:21: DeprecationWarning: LANCZOS is deprecated and will be removed in Pillow 10 (2023-07-01). Use Resampling.LANCZOS instead.\n"
     ]
    }
   ],
   "source": [
    "import lic\n",
    "from PIL import Image\n",
    "\n",
    "# ... get x and y arrays from somewhere ...\n",
    "for i in range(1):\n",
    "    # for x in glob.glob(root_dir + f\"imgout/snap49split1/magfieldx/{i}/*.npy\"):\n",
    "    for x in glob.glob(root_dir + f\"snap/snap49/magfieldx/09/*\")[-1:]:\n",
    "        xfile = mf.load(x)\n",
    "        yfile = mf.load(x.replace(\"magfieldx\", \"magfieldy\"))\n",
    "        # xfile = mf.im_interpolate(xfile, 108, 432)\n",
    "        # yfile = mf.im_interpolate(yfile, 108, 432)\n",
    "        out = root_dir + f\"imgout/lictest/{i}/{i}_ohnostrm{x[-5:]}.png\"##snap\n",
    "        # out = root_dir + f\"imgout/lictest/{i}/{i}_ohnostrm{x[-10:-4]}.png\"###split\n",
    "        im = lic.lic(xfile, yfile, length=15)#, contrast=True)\n",
    "        im = mf.lic2image(im)\n",
    "        # im.show()\n",
    "        im.save(out)\n"
   ]
  },
  {
   "cell_type": "code",
   "execution_count": null,
   "metadata": {},
   "outputs": [],
   "source": []
  },
  {
   "cell_type": "code",
   "execution_count": 93,
   "metadata": {},
   "outputs": [
    {
     "data": {
      "text/plain": [
       "1.0"
      ]
     },
     "execution_count": 93,
     "metadata": {},
     "output_type": "execute_result"
    }
   ],
   "source": []
  },
  {
   "cell_type": "code",
   "execution_count": null,
   "metadata": {},
   "outputs": [],
   "source": []
  }
 ],
 "metadata": {
  "kernelspec": {
   "display_name": "Python 3.7.1 ('base')",
   "language": "python",
   "name": "python3"
  },
  "language_info": {
   "codemirror_mode": {
    "name": "ipython",
    "version": 3
   },
   "file_extension": ".py",
   "mimetype": "text/x-python",
   "name": "python",
   "nbconvert_exporter": "python",
   "pygments_lexer": "ipython3",
   "version": "3.7.1"
  },
  "orig_nbformat": 4,
  "vscode": {
   "interpreter": {
    "hash": "f042362ee065dc60858c472817d1d4759aa3f58fd79a86ac939381b13a520f6f"
   }
  }
 },
 "nbformat": 4,
 "nbformat_minor": 2
}
